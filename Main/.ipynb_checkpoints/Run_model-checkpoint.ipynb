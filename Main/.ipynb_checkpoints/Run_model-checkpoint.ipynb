{
 "cells": [
  {
   "cell_type": "code",
   "execution_count": 1,
   "metadata": {},
   "outputs": [
    {
     "name": "stderr",
     "output_type": "stream",
     "text": [
      "Using backend: pytorch\n"
     ]
    }
   ],
   "source": [
    "import torch\n",
    "import torch.nn as nn\n",
    "import time\n",
    "from ode_nn import Seq2Seq, Auto_FC, Transformer, Latent_ODE, Transformer2\n",
    "from ode_nn import Dataset, train_epoch, eval_epoch, get_lr\n",
    "import numpy as np\n",
    "import time\n",
    "from torch.utils import data\n",
    "import matplotlib.pyplot as plt\n",
    "import random\n",
    "import warnings\n",
    "from tqdm import tqdm\n",
    "warnings.filterwarnings(\"ignore\")\n",
    "device = torch.device(\"cuda\" if torch.cuda.is_available() else \"cpu\")\n",
    "import os\n",
    "# os.environ[\"CUDA_DEVICE_ORDER\"]=\"PCI_BUS_ID\"\n",
    "# os.environ[\"CUDA_VISIBLE_DEVICES\"]=\"0,1,2,3\""
   ]
  },
  {
   "cell_type": "code",
   "execution_count": 2,
   "metadata": {},
   "outputs": [],
   "source": [
    "input_length = 10\n",
    "mid = 10\n",
    "output_length = 10\n",
    "batch_size = 1\n",
    "####################################\n",
    "direc = '/home/ec2-user/SageMaker/efs/Danielle/Ray/Data/LV_2/sample_'\n",
    "random.seed(1521)\n",
    "indices = list(range(1000, 6000))\n",
    "random.shuffle(indices)\n",
    "train_indices = indices[:3500]\n",
    "valid_indices = indices[3500:4000]\n",
    "test_inter_indices = indices[4000:5000]\n",
    "\n",
    "#test_extra_up_indices = list(range(0, 500))\n",
    "test_extra_down_indices = list(range(0, 1000))\n",
    "####################################\n",
    "train_set = Dataset(train_indices, input_length, mid, output_length, direc, entire_target = True)\n",
    "valid_set = Dataset(valid_indices, input_length, mid, output_length, direc, entire_target = True)\n",
    "test_inter_set = Dataset(test_inter_indices, input_length, mid, output_length, direc, entire_target = True)#, direc, N = 1000, entire_target = True\n",
    "test_down_set = Dataset(test_extra_down_indices, input_length, mid, output_length, direc, entire_target = True) #, direc, N = 1000, entire_target = True\n",
    "#test_up_set = Dataset(test_extra_up_indices, input_length, mid, output_length, direc)#, entire_target = True\n",
    "\n",
    "train_loader = data.DataLoader(train_set, batch_size = batch_size, shuffle = True)\n",
    "valid_loader = data.DataLoader(valid_set, batch_size = batch_size, shuffle = False)\n",
    "test_inter_loader = data.DataLoader(test_inter_set, batch_size = batch_size, shuffle = False)\n",
    "test_down_loader = data.DataLoader(test_down_set, batch_size = batch_size, shuffle = False)\n",
    "#test_up_loader = data.DataLoader(test_up_set, batch_size = batch_size, shuffle = False)"
   ]
  },
  {
   "cell_type": "markdown",
   "metadata": {},
   "source": [
    "## AutoODE"
   ]
  },
  {
   "cell_type": "code",
   "execution_count": 28,
   "metadata": {},
   "outputs": [],
   "source": [
    "preds = []\n",
    "trues = []\n",
    "for xx, yy in test_down_loader:\n",
    "    model_ode = Auto_ODE_LV(4, xx[0,0].cpu())#.cuda()\n",
    "    y_exact = xx[0].cpu()\n",
    "\n",
    "    optimizer = torch.optim.Adam(model_ode.parameters(), 0.01)\n",
    "    scheduler = torch.optim.lr_scheduler.StepLR(optimizer, step_size= 100, gamma=0.9)\n",
    "    num_epochs = 3000\n",
    "    loss_fun = torch.nn.MSELoss()\n",
    "    #tqdm_epochs = tqdm()\n",
    "    min_loss = 10\n",
    "\n",
    "    for e in range(num_epochs):\n",
    "        scheduler.step()\n",
    "        y_approx = model_ode(10)\n",
    "        loss = loss_fun(y_approx, y_exact)\n",
    "        if loss.item() < min_loss:\n",
    "            best_model_ode = model_ode\n",
    "            min_loss = torch.sum(loss).item()\n",
    "        optimizer.zero_grad()\n",
    "        loss.backward()\n",
    "        optimizer.step()\n",
    "        #tqdm_epochs.set_postfix({'loss': torch.sum(loss).item()})\n",
    "        \n",
    "    y_pred = best_model_ode(20).cpu().data.numpy()\n",
    "    y_exact = yy[0].cpu().data.numpy()\n",
    "    preds.append(y_pred)\n",
    "    trues.append(y_exact)\n",
    "    print(e)\n",
    "y_preds = np.array(preds)\n",
    "y_trues = np.array(trues)\n",
    "print(np.sum(y_preds!=y_preds))\n",
    "np.sqrt(np.mean((np.diff(y_preds, axis = 1) - np.diff(y_trues, axis = 1))[3:,-10:]**2))\n",
    "\n",
    "torch.save({\"preds\": y_preds,\n",
    "            \"trues\": y_trues,\n",
    "            \"rmse\": np.sqrt(np.mean((np.diff(y_preds, axis = 1) - np.diff(y_trues, axis = 1))[:,-10:]**2))},\n",
    "            \"AutoODE_LV_init_inter.pt\")"
   ]
  },
  {
   "cell_type": "code",
   "execution_count": null,
   "metadata": {},
   "outputs": [],
   "source": [
    "x = np.linspace(0, 60, 61)[:20]\n",
    "fig=plt.figure(figsize=(8, 6))\n",
    "ax = fig.add_subplot(111, facecolor='#dddddd', axisbelow=True) #80 6 130\n",
    "idx = 7\n",
    "y_pred = y_preds[idx]\n",
    "y_true = y_trues[idx]\n",
    "ax.plot(x, y_pred[:, 0], 'b', alpha=0.5, lw=4, linestyle = \"--\", label='S approx')\n",
    "ax.plot(x, y_pred[:, 1], 'red', alpha=0.5, lw=4, linestyle = \"--\", label='I approx')\n",
    "ax.plot(x, y_pred[:, 2], 'purple', alpha=0.5, lw=4, linestyle = \"--\", label= 'E approx')\n",
    "ax.plot(x, y_pred[:, 3], 'black', alpha=0.5, lw=4, linestyle = \"--\", label= 'R approx')\n",
    "\n",
    "ax.plot(x, y_true[:, 0], 'b', alpha=0.5, lw=2,  label='S true')\n",
    "ax.plot(x, y_true[:, 1], 'red', alpha=0.5, lw=2,  label='I true')\n",
    "ax.plot(x, y_true[:, 2], 'purple', alpha=0.5, lw=2,  label='E true')\n",
    "ax.plot(x, y_true[:, 3], 'black', alpha=0.5, lw=2,  label='R true')\n",
    "\n",
    "\n",
    "ax.axvline(10, color = \"black\")\n",
    "ax.set_xlabel('Time', size = 15)\n",
    "ax.set_ylabel('Proportion', size = 15)\n",
    "ax.yaxis.set_tick_params(length=0)\n",
    "ax.xaxis.set_tick_params(length=0)\n",
    "ax.grid(b=True, which='major', c='w', lw=2, ls='-')\n",
    "legend = ax.legend(fontsize = 12, loc = 3)\n",
    "legend.get_frame().set_alpha(0.5)\n",
    "for spine in ('top', 'right', 'bottom', 'left'):\n",
    "    ax.spines[spine].set_visible(False)\n",
    "    plt.title(r\"$k$\"+\"-Extrapolation: Seq2Seq\" , fontsize = 20)#+ r\"$N=10000, I_0 = 10, \\beta = 0.8, \\gamma = 0.1$\"\n",
    "#plt.savefig(\"k-Extrapolation-lv.png\", dpi = 400 , bbox_inches = \"tight\")    \n",
    "plt.show()"
   ]
  },
  {
   "cell_type": "markdown",
   "metadata": {},
   "source": [
    "## Train Model"
   ]
  },
  {
   "cell_type": "code",
   "execution_count": null,
   "metadata": {
    "scrolled": true
   },
   "outputs": [
    {
     "name": "stdout",
     "output_type": "stream",
     "text": [
      "496196\n",
      "Epoch 1:  train rmse: 0.37529 valid rmse: 0.31881 time: 10.35 Learning rate: 9.50e-04\n",
      "Epoch 2:  train rmse: 0.3156 valid rmse: 0.31497 time: 6.566 Learning rate: 9.02e-04\n",
      "Epoch 3:  train rmse: 0.31171 valid rmse: 0.31083 time: 12.582 Learning rate: 8.57e-04\n",
      "Epoch 4:  train rmse: 0.30616 valid rmse: 0.30405 time: 25.02 Learning rate: 8.15e-04\n",
      "Epoch 5:  train rmse: 0.29379 valid rmse: 0.28815 time: 45.193 Learning rate: 7.74e-04\n",
      "Epoch 6:  train rmse: 0.27175 valid rmse: 0.26352 time: 63.883 Learning rate: 7.35e-04\n",
      "Epoch 7:  train rmse: 0.25507 valid rmse: 0.23973 time: 78.753 Learning rate: 6.98e-04\n",
      "Epoch 8:  train rmse: 0.23233 valid rmse: 0.21833 time: 89.547 Learning rate: 6.63e-04\n"
     ]
    }
   ],
   "source": [
    "#model = nn.DataParallel(Auto_FC(input_length = input_length, input_dim = 4, output_dim = 4, hidden_dim = 1024).to(device))\n",
    "#model = Seq2Seq(input_dim = 4, output_dim = 4, hidden_dim = 256, num_layers = 3).to(device)\n",
    "#model = nn.DataParallel(Transformer(input_dim = 4, output_dim = 4, nhead = 4, d_model = 256, num_layers = 6, dim_feedforward = 512).to(device))#nn.DataParallel(\n",
    "model = nn.DataParallel(Latent_ODE(latent_dim = 32, obs_dim = 4, nhidden = 256, nbatch=batch_size).to(device))\n",
    "####################################\n",
    "learning_rate = 0.001\n",
    "optimizer = torch.optim.Adam(model.parameters(), lr = learning_rate)\n",
    "scheduler = torch.optim.lr_scheduler.StepLR(optimizer, step_size= 1, gamma=0.95)\n",
    "loss_fun = nn.MSELoss()\n",
    "print(sum(p.numel() for p in model.parameters() if p.requires_grad))\n",
    "train_rmse = []\n",
    "valid_rmse = []\n",
    "test_rmse = []\n",
    "min_rmse = 1\n",
    "\n",
    "for i in range(1, 200):\n",
    "    start = time.time()\n",
    "    scheduler.step()\n",
    "    model.train()\n",
    "    train_rmse.append(train_epoch(model, train_loader, optimizer, loss_fun)[-1])\n",
    "    model.eval()\n",
    "    preds, trues, rmse = eval_epoch(model, valid_loader, loss_fun, concat_input = False)\n",
    "    valid_rmse.append(rmse)\n",
    "    if valid_rmse[-1] < min_rmse:\n",
    "        min_rmse = valid_rmse[-1] \n",
    "        best_model = model \n",
    "        torch.save(best_model, \"latentode.pth\")\n",
    "    end = time.time()\n",
    "    if (len(train_rmse) > 50 and np.mean(valid_rmse[-5:]) >= np.mean(valid_rmse[-10:-5])):\n",
    "            break\n",
    "    #if i%10 == 0:\n",
    "    print(\"Epoch \" + str(i) + \": \", \"train rmse:\", train_rmse[-1], \"valid rmse:\",valid_rmse[-1], \n",
    "                  \"time:\",round((end-start)/60,3), \"Learning rate:\", format(get_lr(optimizer), \"5.2e\"))"
   ]
  },
  {
   "cell_type": "code",
   "execution_count": 12,
   "metadata": {},
   "outputs": [],
   "source": [
    "preds_inter, trues_inter, rmse_inter = eval_epoch(best_model, test_inter_loader, loss_fun, concat_input = True)#\n",
    "preds_down, trues_down, rmse_down = eval_epoch(best_model, test_down_loader, loss_fun, concat_input = True)#, concat_input = True\n",
    "#preds_up, trues_up, rmse_up = eval_epoch(best_model, test_up_loader, loss_fun, concat_input = True)\n",
    "\n",
    "torch.save({\"Inter\": [preds_inter, trues_inter, rmse_inter],\n",
    "            \"Down\": [preds_down, trues_down, rmse_down],\n",
    "            #\"Up\": [preds_up, trues_up, rmse_up],\n",
    "            \"model\": best_model},\n",
    "            \"latentode_lv.pt\")\n",
    "# results = torch.load(\"Results/seq2seq.pt\")\n",
    "# preds_inter, trues_inter, rmse_inter = results[\"Inter\"]\n",
    "# preds_down, trues_down, rmse_down = results[\"Down\"]"
   ]
  },
  {
   "cell_type": "code",
   "execution_count": 60,
   "metadata": {},
   "outputs": [
    {
     "data": {
      "image/png": "[encoded data removed]",
      "text/plain": [
       "<Figure size 576x432 with 1 Axes>"
      ]
     },
     "metadata": {},
     "output_type": "display_data"
    }
   ],
   "source": [
    "x = np.linspace(0, 60, 61)[:60]\n",
    "fig=plt.figure(figsize=(8, 6))\n",
    "ax = fig.add_subplot(111, facecolor='#dddddd', axisbelow=True) #80 6 130\n",
    "idx = 0\n",
    "num = 1\n",
    "preds = [preds_inter, preds_down]# preds_up,\n",
    "trues = [trues_inter, trues_down]#trues_up, \n",
    "ax.plot(x[20:], preds[num][idx, :, 0], 'b', alpha=0.5, lw=4, linestyle = \"--\", label='S approx')\n",
    "ax.plot(x[20:], preds[num][idx, :, 1], 'red', alpha=0.5, lw=4, linestyle = \"--\", label='I approx')\n",
    "ax.plot(x[20:], preds[num][idx, :, 2], 'purple', alpha=0.5, lw=4, linestyle = \"--\", label= 'E approx')\n",
    "ax.plot(x[20:], preds[num][idx, :, 3], 'black', alpha=0.5, lw=4, linestyle = \"--\", label= 'R approx')\n",
    "\n",
    "ax.plot(x, trues[num][idx, :, 0], 'b', alpha=0.5, lw=2,  label='S true')\n",
    "ax.plot(x, trues[num][idx, :, 1], 'red', alpha=0.5, lw=2,  label='I true')\n",
    "ax.plot(x, trues[num][idx, :, 2], 'purple', alpha=0.5, lw=2,  label='E true')\n",
    "ax.plot(x, trues[num][idx, :, 3], 'black', alpha=0.5, lw=2,  label='R true')\n",
    "\n",
    "\n",
    "ax.axvline(10, color = \"black\")\n",
    "ax.set_xlabel('Time', size = 15)\n",
    "ax.set_ylabel('Proportion', size = 15)\n",
    "ax.yaxis.set_tick_params(length=0)\n",
    "ax.xaxis.set_tick_params(length=0)\n",
    "ax.grid(b=True, which='major', c='w', lw=2, ls='-')\n",
    "legend = ax.legend(fontsize = 12, loc = 3)\n",
    "legend.get_frame().set_alpha(0.5)\n",
    "for spine in ('top', 'right', 'bottom', 'left'):\n",
    "    ax.spines[spine].set_visible(False)\n",
    "    plt.title(r\"$k$\"+\"-Extrapolation: Seq2Seq\" , fontsize = 20)#+ r\"$N=10000, I_0 = 10, \\beta = 0.8, \\gamma = 0.1$\"\n",
    "#plt.savefig(\"k-Extrapolation-lv.png\", dpi = 400 , bbox_inches = \"tight\")    \n",
    "plt.show()"
   ]
  },
  {
   "cell_type": "markdown",
   "metadata": {},
   "source": [
    "## Graph"
   ]
  },
  {
   "cell_type": "code",
   "execution_count": null,
   "metadata": {},
   "outputs": [],
   "source": [
    "import torch\n",
    "import torch.nn as nn\n",
    "import time\n",
    "import dgl\n",
    "import numpy as np\n",
    "import time\n",
    "from torch.utils import data\n",
    "import matplotlib.pyplot as plt\n",
    "import random\n",
    "from ode_nn import GCN, GAT, Dataset_graph, train_epoch_graph, eval_epoch_graph, get_lr\n",
    "import warnings\n",
    "warnings.filterwarnings(\"ignore\")\n",
    "device = torch.device(\"cuda\" if torch.cuda.is_available() else \"cpu\")\n",
    "import os\n",
    "os.environ[\"CUDA_DEVICE_ORDER\"]=\"PCI_BUS_ID\"\n",
    "os.environ[\"CUDA_VISIBLE_DEVICES\"]=\"4\""
   ]
  },
  {
   "cell_type": "code",
   "execution_count": null,
   "metadata": {},
   "outputs": [],
   "source": [
    "input_length = 14\n",
    "mid = 14\n",
    "output_length = 7\n",
    "batch_size = 2\n",
    "\n",
    "###################################\n",
    "train_direc = '/home/ec2-user/SageMaker/efs/Danielle/Ray/Data/Latest_US_Covid_Data_0726/graph/train/sample_'\n",
    "test_direc = '/home/ec2-user/SageMaker/efs/Danielle/Ray/Data/Latest_US_Covid_Data_0726/graph/test/sample_'\n",
    "train_indices = list(range(50))\n",
    "valid_indices = list(range(50, 56))\n",
    "test_indices = list(range(3))\n",
    "\n",
    "###################################\n",
    "train_set = Dataset_graph(train_indices, input_length, mid, output_length, train_direc)#, entire_target = True\n",
    "valid_set = Dataset_graph(valid_indices, input_length, mid, output_length, train_direc)#, entire_target = True\n",
    "test_set = Dataset_graph(test_indices, input_length, mid, output_length, test_direc)#, entire_target = True\n",
    "train_loader = data.DataLoader(train_set, batch_size = batch_size, shuffle = True)\n",
    "valid_loader = data.DataLoader(valid_set, batch_size = batch_size, shuffle = False)\n",
    "test_loader = data.DataLoader(test_set, batch_size = batch_size, shuffle = False)"
   ]
  },
  {
   "cell_type": "code",
   "execution_count": null,
   "metadata": {},
   "outputs": [],
   "source": [
    "graph = torch.load(\"us_graph.pt\")\n",
    "G = dgl.DGLGraph().to(device)\n",
    "G.add_nodes(56)\n",
    "for i in range(56):\n",
    "    for j in range(56):\n",
    "        if graph[i,j] == 1:\n",
    "            G.add_edge(i,j)"
   ]
  },
  {
   "cell_type": "code",
   "execution_count": null,
   "metadata": {},
   "outputs": [],
   "source": [
    "#model = GCN(in_dim = 42, out_dim = 3, hidden_dim = 64, num_layer = 5).to(device)\n",
    "model = GAT(in_dim = 42, out_dim = 3, hidden_dim = 32, num_heads = 4, num_layer = 6).to(device)"
   ]
  },
  {
   "cell_type": "code",
   "execution_count": null,
   "metadata": {},
   "outputs": [],
   "source": [
    "learning_rate = 0.001\n",
    "optimizer = torch.optim.Adam(model.parameters(), lr = learning_rate)\n",
    "scheduler = torch.optim.lr_scheduler.StepLR(optimizer, step_size= 1, gamma=0.9)\n",
    "loss_fun = nn.MSELoss()\n",
    "sum(p.numel() for p in model.parameters() if p.requires_grad) \n",
    "train_rmse = []\n",
    "valid_rmse = []\n",
    "test_rmse = []\n",
    "min_rmse = 1\n",
    "for i in range(1, 100):\n",
    "    start = time.time()\n",
    "    scheduler.step()\n",
    "    model.train()\n",
    "    train_rmse.append(train_epoch_graph(model, train_loader, optimizer, loss_fun, G)[-1])\n",
    "    model.eval()\n",
    "    preds, trues, rmse = eval_epoch_graph(model, valid_loader, loss_fun, G)\n",
    "    valid_rmse.append(rmse)\n",
    "    if valid_rmse[-1] < min_rmse:\n",
    "        min_rmse = valid_rmse[-1] \n",
    "        best_model = model \n",
    "        #torch.save(best_model, \"lstm_us.pth\")\n",
    "    end = time.time()\n",
    "    if (len(train_rmse) > 30 and np.mean(valid_rmse[-5:]) >= np.mean(valid_rmse[-10:-5])):\n",
    "            break\n",
    "    print(\"Epoch \" + str(i) + \": \", \"train rmse:\", train_rmse[-1], \"valid rmse:\",valid_rmse[-1], \n",
    "              \"time:\",round((end-start)/60,3), \"Learning rate:\", format(get_lr(optimizer), \"5.2e\"))\n",
    "idx = 3\n",
    "preds, trues, rmse = eval_epoch_graph(best_model, test_loader, loss_fun, G)\n",
    "torch.save({\"preds\": preds,\n",
    "            \"trues\": trues,\n",
    "            \"rmse\": np.sqrt(np.mean((preds - trues[:,:,-7:])**2))}, \n",
    "            \"GAT_\" + str(idx) + \".pt\")"
   ]
  },
  {
   "cell_type": "code",
   "execution_count": null,
   "metadata": {},
   "outputs": [],
   "source": [
    "# dd = []\n",
    "# for xx, yy in train_loader:\n",
    "#     dd.append(xx.flatten())\n",
    "#     dd.append(yy.flatten())\n",
    "# dd_train = torch.cat(dd, dim = 0)\n",
    "\n",
    "# dd = []\n",
    "# for xx, yy in test_inter_loader:\n",
    "#     dd.append(xx.flatten())\n",
    "#     dd.append(yy.flatten())\n",
    "# dd_inter = torch.cat(dd, dim = 0)\n",
    "\n",
    "# dd = []\n",
    "# for xx, yy in test_down_loader:\n",
    "#     dd.append(xx.flatten())\n",
    "#     dd.append(yy.flatten())\n",
    "# dd_extra = torch.cat(dd, dim = 0)\n",
    "\n",
    "\n",
    "# sns.set(color_codes=True)\n",
    "# fig=plt.figure(figsize=(8, 6))\n",
    "# sns.distplot(dd_train.flatten().cpu().data.numpy(), hist=False, bins = 20, \n",
    "#              kde_kws={\"lw\": 3, \"label\": \"Training Set\"})\n",
    "# sns.distplot(dd_inter.flatten().cpu().data.numpy(), hist=False, bins = 20, \n",
    "#              kde_kws={\"lw\": 3, \"label\": r\"$I_0$\" + \"-Interpolation Test Set\"})\n",
    "# sns.distplot(dd_extra.flatten().cpu().data.numpy(), hist=False, bins = 20, \n",
    "#              kde_kws={\"lw\": 3, \"label\": r\"$I_0$\" + \"-Extrapolation Test Set\"})\n",
    "\n",
    "# plt.legend(fontsize='large')\n",
    "# plt.title(\"SEIR Data Distribution\", size = 16)\n",
    "# plt.xlim(-60,40)\n",
    "# #plt.savefig(\"SEIR-I-distribution.png\", dpi = 300, bbox_inches = 'tight')"
   ]
  }
 ],
 "metadata": {
  "kernelspec": {
   "display_name": "conda_pytorch_p36",
   "language": "python",
   "name": "conda_pytorch_p36"
  },
  "language_info": {
   "codemirror_mode": {
    "name": "ipython",
    "version": 3
   },
   "file_extension": ".py",
   "mimetype": "text/x-python",
   "name": "python",
   "nbconvert_exporter": "python",
   "pygments_lexer": "ipython3",
   "version": "3.6.5"
  }
 },
 "nbformat": 4,
 "nbformat_minor": 4
}
