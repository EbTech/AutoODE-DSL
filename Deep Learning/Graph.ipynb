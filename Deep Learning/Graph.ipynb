{
 "cells": [
  {
   "cell_type": "code",
   "execution_count": 3,
   "metadata": {},
   "outputs": [
    {
     "name": "stderr",
     "output_type": "stream",
     "text": [
      "Using backend: pytorch\n"
     ]
    }
   ],
   "source": [
    "import torch\n",
    "import torch.nn as nn\n",
    "import time\n",
    "import dgl\n",
    "import numpy as np\n",
    "import time\n",
    "from torch.utils import data\n",
    "import matplotlib.pyplot as plt\n",
    "import random\n",
    "from ode_nn import GCN, GAT, Dataset_graph, train_epoch_graph, eval_epoch_graph, get_lr\n",
    "import warnings\n",
    "warnings.filterwarnings(\"ignore\")\n",
    "device = torch.device(\"cuda\" if torch.cuda.is_available() else \"cpu\")\n",
    "import os\n",
    "os.environ[\"CUDA_DEVICE_ORDER\"]=\"PCI_BUS_ID\"\n",
    "os.environ[\"CUDA_VISIBLE_DEVICES\"]=\"4\""
   ]
  },
  {
   "cell_type": "code",
   "execution_count": 2,
   "metadata": {},
   "outputs": [],
   "source": [
    "input_length = 14\n",
    "mid = 14\n",
    "output_length = 7\n",
    "batch_size = 2\n",
    "\n",
    "###################################\n",
    "train_direc = '/home/ec2-user/SageMaker/efs/Danielle/Ray/Data/Latest_US_Covid_Data_0726/graph/train/sample_'\n",
    "test_direc = '/home/ec2-user/SageMaker/efs/Danielle/Ray/Data/Latest_US_Covid_Data_0726/graph/test/sample_'\n",
    "train_indices = list(range(50))\n",
    "valid_indices = list(range(50, 56))\n",
    "test_indices = list(range(3))\n",
    "\n",
    "###################################\n",
    "train_set = Dataset_graph(train_indices, input_length, mid, output_length, train_direc)#, entire_target = True\n",
    "valid_set = Dataset_graph(valid_indices, input_length, mid, output_length, train_direc)#, entire_target = True\n",
    "test_set = Dataset_graph(test_indices, input_length, mid, output_length, test_direc)#, entire_target = True\n",
    "train_loader = data.DataLoader(train_set, batch_size = batch_size, shuffle = True)\n",
    "valid_loader = data.DataLoader(valid_set, batch_size = batch_size, shuffle = False)\n",
    "test_loader = data.DataLoader(test_set, batch_size = batch_size, shuffle = False)"
   ]
  },
  {
   "cell_type": "code",
   "execution_count": 6,
   "metadata": {},
   "outputs": [],
   "source": [
    "graph = torch.load(\"us_graph.pt\")\n",
    "G = dgl.DGLGraph().to(device)\n",
    "G.add_nodes(56)\n",
    "for i in range(56):\n",
    "    for j in range(56):\n",
    "        if graph[i,j] == 1:\n",
    "            G.add_edge(i,j)"
   ]
  },
  {
   "cell_type": "code",
   "execution_count": 48,
   "metadata": {},
   "outputs": [],
   "source": [
    "#model = GCN(in_dim = 42, out_dim = 3, hidden_dim = 64, num_layer = 5).to(device)\n",
    "model = GAT(in_dim = 42, out_dim = 3, hidden_dim = 32, num_heads = 4, num_layer = 6).to(device)"
   ]
  },
  {
   "cell_type": "code",
   "execution_count": null,
   "metadata": {},
   "outputs": [],
   "source": [
    "learning_rate = 0.001\n",
    "optimizer = torch.optim.Adam(model.parameters(), lr = learning_rate)\n",
    "scheduler = torch.optim.lr_scheduler.StepLR(optimizer, step_size= 1, gamma=0.9)\n",
    "loss_fun = nn.MSELoss()\n",
    "sum(p.numel() for p in model.parameters() if p.requires_grad) \n",
    "train_rmse = []\n",
    "valid_rmse = []\n",
    "test_rmse = []\n",
    "min_rmse = 1\n",
    "for i in range(1, 100):\n",
    "    start = time.time()\n",
    "    scheduler.step()\n",
    "    model.train()\n",
    "    train_rmse.append(train_epoch_graph(model, train_loader, optimizer, loss_fun, G)[-1])\n",
    "    model.eval()\n",
    "    preds, trues, rmse = eval_epoch_graph(model, valid_loader, loss_fun, G)\n",
    "    valid_rmse.append(rmse)\n",
    "    if valid_rmse[-1] < min_rmse:\n",
    "        min_rmse = valid_rmse[-1] \n",
    "        best_model = model \n",
    "        #torch.save(best_model, \"lstm_us.pth\")\n",
    "    end = time.time()\n",
    "    if (len(train_rmse) > 30 and np.mean(valid_rmse[-5:]) >= np.mean(valid_rmse[-10:-5])):\n",
    "            break\n",
    "    print(\"Epoch \" + str(i) + \": \", \"train rmse:\", train_rmse[-1], \"valid rmse:\",valid_rmse[-1], \n",
    "              \"time:\",round((end-start)/60,3), \"Learning rate:\", format(get_lr(optimizer), \"5.2e\"))\n",
    "idx = 3\n",
    "preds, trues, rmse = eval_epoch_graph(best_model, test_loader, loss_fun, G)\n",
    "torch.save({\"preds\": preds,\n",
    "            \"trues\": trues,\n",
    "            \"rmse\": np.sqrt(np.mean((preds - trues[:,:,-7:])**2))}, \n",
    "            \"GAT_\" + str(idx) + \".pt\")"
   ]
  }
 ],
 "metadata": {
  "kernelspec": {
   "display_name": "conda_pytorch_p36",
   "language": "python",
   "name": "conda_pytorch_p36"
  },
  "language_info": {
   "codemirror_mode": {
    "name": "ipython",
    "version": 3
   },
   "file_extension": ".py",
   "mimetype": "text/x-python",
   "name": "python",
   "nbconvert_exporter": "python",
   "pygments_lexer": "ipython3",
   "version": "3.6.5"
  }
 },
 "nbformat": 4,
 "nbformat_minor": 4
}
