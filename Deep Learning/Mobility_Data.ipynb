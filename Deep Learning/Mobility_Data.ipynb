{
 "cells": [
  {
   "cell_type": "code",
   "execution_count": 4,
   "metadata": {},
   "outputs": [],
   "source": [
    "import torch\n",
    "import torch.nn as nn\n",
    "import time\n",
    "import numpy as np\n",
    "import time\n",
    "from torch.utils import data\n",
    "import matplotlib.pyplot as plt\n",
    "import random\n",
    "import warnings\n",
    "import pandas as pd\n",
    "warnings.filterwarnings(\"ignore\")\n",
    "device = torch.device(\"cuda\" if torch.cuda.is_available() else \"cpu\")\n",
    "import os"
   ]
  },
  {
   "cell_type": "code",
   "execution_count": 40,
   "metadata": {},
   "outputs": [],
   "source": [
    "# home = pd.read_csv(\"/home/ec2-user/SageMaker/efs/Danielle/Ray/Data/home_panel_summary.csv\")\n",
    "# population = pd.read_csv(\"/home/ec2-user/SageMaker/efs/Danielle/Ray/Data/population_states.csv\", index_col=0)\n",
    "# home_sum = home.groupby(\"state\").sum()[[\"number_devices_residing\"]].to_dict()['number_devices_residing']"
   ]
  },
  {
   "cell_type": "code",
   "execution_count": 63,
   "metadata": {},
   "outputs": [],
   "source": [
    "stayhome = {\"AK\": 29.3,\n",
    "            \"AL\": 23.8,\n",
    "            \"AR\": 24.2,\n",
    "            \"AZ\": 34.2,\n",
    "            \"CA\": 35.6,\n",
    "            \"CO\": 30.9, \n",
    "            \"CT\": 32.6,\n",
    "            \"DC\": 40.1, \n",
    "            \"DE\": 31.9,\n",
    "            \"FL\": 31.6,\n",
    "            \"GA\": 27.8,\n",
    "            \"HI\": 30.3,\n",
    "            \"IA\": 25.7,\n",
    "            \"ID\": 29.1,\n",
    "            \"IL\": 30.6,\n",
    "            \"IN\": 27.4,\n",
    "            \"KS\": 26.4,\n",
    "            \"KY\": 26.3,\n",
    "            \"LA\": 25.2, \n",
    "            \"MA\": 34.7,\n",
    "            \"MD\": 34.6, \n",
    "            \"ME\": 30.5,\n",
    "            \"MI\": 28.3, \n",
    "            \"MN\": 30.3,\n",
    "            \"MO\": 26.5,\n",
    "            \"MS\": 23.0, \n",
    "            \"MT\": 28.8,\n",
    "            \"NC\": 28.5,\n",
    "            \"ND\": 26.4,\n",
    "            \"NE\": 26.1,\n",
    "            \"NH\": 31.4,\n",
    "            \"NJ\": 33.3,\n",
    "            \"NM\": 31.7,\n",
    "            \"NV\": 33.8, \n",
    "            \"NY\": 35.4,\n",
    "            \"OH\": 27.7,\n",
    "            \"OK\": 23.8,\n",
    "            \"OR\": 33.1,\n",
    "            \"PA\": 30.8, \n",
    "            \"RI\": 32.7,\n",
    "            \"SC\": 26.6,\n",
    "            \"SD\": 26.1,\n",
    "            \"TN\": 26.5,\n",
    "            \"TX\": 31.0,\n",
    "            \"UT\": 30.2,\n",
    "            \"VA\": 31.7, \n",
    "            \"VT\": 32.2,\n",
    "            \"WA\": 34.2, \n",
    "            \"WI\": 28.8,\n",
    "            \"WV\": 26.7,\n",
    "            \"WY\": 28.6}"
   ]
  },
  {
   "cell_type": "code",
   "execution_count": 71,
   "metadata": {},
   "outputs": [],
   "source": [
    "us_abbr =  np.array([\"NY\", \"NJ\", \"MA\", \"MI\", \"PA\", \n",
    "                     \"CA\", \"IL\", \"FL\", \"LA\", \"TX\", \n",
    "                     \"CT\", \"GA\", \"WA\", \"MD\", \"ID\", \n",
    "                     \"CO\", \"OH\", \"VA\", \"TN\", \"NC\",\n",
    "                     \"MO\", \"AL\", \"AZ\", \"WI\", \"SC\",\n",
    "                     \"NV\", \"MS\", \"RI\", \"UT\", \"OK\", \"KY\",\n",
    "                     \"DC\", \"DE\", \"IA\", \"MN\", \"OR\",\n",
    "                     \"ID\", \"AR\", \"KS\", \"NM\", \"NH\",\n",
    "                     \"PR\", \"SD\", \"NE\", \"VT\", \"ME\",\n",
    "                     \"WV\", \"HI\", \"MT\", \"ND\", \"AK\",\n",
    "                     \"WY\", \"GU\", \"VI\", \"MP\", \"AS\"])\n",
    "us_beta = []\n",
    "for state in us_abbr:\n",
    "    try:\n",
    "        us_beta.append(1-stayhome[state]/100)\n",
    "    except:\n",
    "        us_beta.append(1-0.3)"
   ]
  },
  {
   "cell_type": "code",
   "execution_count": 72,
   "metadata": {},
   "outputs": [],
   "source": [
    "torch.save(torch.from_numpy(np.array(us_beta)).float(), \"us_beta.pt\")"
   ]
  }
 ],
 "metadata": {
  "kernelspec": {
   "display_name": "conda_pytorch_p36",
   "language": "python",
   "name": "conda_pytorch_p36"
  },
  "language_info": {
   "codemirror_mode": {
    "name": "ipython",
    "version": 3
   },
   "file_extension": ".py",
   "mimetype": "text/x-python",
   "name": "python",
   "nbconvert_exporter": "python",
   "pygments_lexer": "ipython3",
   "version": "3.6.5"
  }
 },
 "nbformat": 4,
 "nbformat_minor": 4
}
