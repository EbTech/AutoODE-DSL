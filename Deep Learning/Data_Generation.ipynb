{
 "cells": [
  {
   "cell_type": "code",
   "execution_count": 1,
   "metadata": {},
   "outputs": [],
   "source": [
    "import os\n",
    "import torch \n",
    "import numpy as np\n",
    "import pandas as pd\n",
    "import torch.nn as nn\n",
    "from datetime import datetime\n",
    "from scipy.integrate import odeint\n",
    "import matplotlib.pyplot as plt\n",
    "#from model import SuEIR_Corr, weight_fun\n",
    "# os.environ[\"CUDA_DEVICE_ORDER\"]=\"PCI_BUS_ID\"\n",
    "# os.environ[\"CUDA_VISIBLE_DEVICES\"]=\"0,1,2,3,4,5,6,7\"\n",
    "#device = torch.device(\"cuda\" if torch.cuda.is_available() else \"cpu\")\n",
    "device = torch.device(\"cpu\")"
   ]
  },
  {
   "cell_type": "code",
   "execution_count": 8,
   "metadata": {},
   "outputs": [],
   "source": [
    "direc = \"/home/ec2-user/SageMaker/efs/Danielle/Ray/Data/US_Reports/\"\n",
    "list_csv = sorted(os.listdir(direc))[1:]\n",
    "us = []\n",
    "for file in list_csv:\n",
    "    sample = pd.read_csv(direc + file).set_index(\"Province_State\")[[\"Confirmed\", \"Recovered\", \"Deaths\"]].sort_values(by = \"Confirmed\", ascending = False)\n",
    "    us.append(sample.drop(['Diamond Princess', 'Grand Princess']))\n",
    "us = pd.concat(us, axis=1, join='inner')[:55] \n",
    "us_data = us.values.reshape(55,-1,4)\n",
    "us_data[us_data!=us_data] = 0\n",
    "us_data_diff = np.diff(us_data, axis = 1)\n",
    "us_data = us_data[:,1:]\n",
    "\n",
    "# us_data[:,:,1] += us_data[:,:,2]\n",
    "# win = 3\n",
    "# for i in range(win, len(us_data_diff)):\n",
    "#     us_data_diff[:,i] = np.mean(us_data_diff[:,i-win:i], axis = 1)\n",
    "\n",
    "# # standardization\n",
    "# std = np.std(us_data_diff, axis = (1), keepdims = True)\n",
    "# avgs = np.mean(us_data_diff, axis = (1), keepdims = True)\n",
    "# us_data_diff = (us_data_diff - avgs)/std\n",
    "# us_data_diff[us_data_diff!=us_data_diff] = 0"
   ]
  },
  {
   "cell_type": "code",
   "execution_count": null,
   "metadata": {},
   "outputs": [],
   "source": [
    "# first day 04/12\n",
    "# list_csv[65] list_csv[72] list_csv[79]\n",
    "# list_csv[84] list_csv[91] list_csv[98]"
   ]
  },
  {
   "cell_type": "code",
   "execution_count": null,
   "metadata": {},
   "outputs": [],
   "source": [
    "train_test_split = 84\n",
    "train = us_data[:,:train_test_split-7]"
   ]
  },
  {
   "cell_type": "code",
   "execution_count": null,
   "metadata": {},
   "outputs": [],
   "source": [
    "k = 0\n",
    "for j in range(14, train.shape[1]-7):\n",
    "    for i in range(train.shape[0]):\n",
    "        sample = torch.from_numpy(train[i,j-14:j+7]).float()\n",
    "        torch.save(sample, \"/home/ec2-user/SageMaker/efs/Danielle/Ray/Data/Latest_US_Covid_Data_0726/train/sample_\" + str(k) + \".pt\")\n",
    "        k += 1"
   ]
  },
  {
   "cell_type": "code",
   "execution_count": null,
   "metadata": {},
   "outputs": [],
   "source": [
    "k = 0\n",
    "for w in [0,7,14]:\n",
    "    test = us_data[:,(train_test_split + w - 14):(train_test_split + w + 7)]\n",
    "    for i in range(test.shape[0]):\n",
    "        sample = torch.from_numpy(test[i]).float()\n",
    "        torch.save(sample, \"/home/ec2-user/SageMaker/efs/Danielle/Ray/Data/Latest_US_Covid_Data_0726/test/sample_\" + str(k) + \".pt\")\n",
    "        k += 1"
   ]
  }
 ],
 "metadata": {
  "kernelspec": {
   "display_name": "conda_pytorch_p36",
   "language": "python",
   "name": "conda_pytorch_p36"
  },
  "language_info": {
   "codemirror_mode": {
    "name": "ipython",
    "version": 3
   },
   "file_extension": ".py",
   "mimetype": "text/x-python",
   "name": "python",
   "nbconvert_exporter": "python",
   "pygments_lexer": "ipython3",
   "version": "3.6.5"
  }
 },
 "nbformat": 4,
 "nbformat_minor": 4
}
