{
 "cells": [
  {
   "cell_type": "code",
   "execution_count": 7,
   "metadata": {},
   "outputs": [],
   "source": [
    "import torch\n",
    "import torch.nn as nn\n",
    "import os\n",
    "from tqdm.notebook import tqdm\n",
    "\n",
    "from ode_nn import AutoODE_COVID, weight_fun\n",
    "from ode_nn import Dataset, train_epoch, eval_epoch, get_lr\n",
    "import numpy as np\n",
    "import pandas as pd\n",
    "import torch.nn.functional as F\n",
    "from torch.utils import data\n",
    "import matplotlib.pyplot as plt\n",
    "import random\n",
    "import warnings\n",
    "from ode_nn import Dataset_graph, train_epoch_graph, eval_epoch_graph, get_lr\n",
    "warnings.filterwarnings(\"ignore\")\n",
    "device = torch.device(\"cuda\" if torch.cuda.is_available() else \"cpu\")"
   ]
  },
  {
   "cell_type": "code",
   "execution_count": 2,
   "metadata": {},
   "outputs": [
    {
     "data": {
      "text/plain": [
       "device(type='cuda')"
      ]
     },
     "execution_count": 2,
     "metadata": {},
     "output_type": "execute_result"
    }
   ],
   "source": [
    "device"
   ]
  },
  {
   "cell_type": "markdown",
   "metadata": {},
   "source": [
    "## Data Preprocessing"
   ]
  },
  {
   "cell_type": "code",
   "execution_count": 3,
   "metadata": {},
   "outputs": [],
   "source": [
    "# Read and Preprocess the csv files from John Hopkins Dataset\n",
    "# https://github.com/CSSEGISandData/COVID-19/tree/master/csse_covid_19_data/csse_covid_19_daily_reports_us\n",
    "direc = \"../COVID-19/csse_covid_19_data/csse_covid_19_daily_reports_us/\" # Directory that contains daily report csv files.\n",
    "\n",
    "dates = [c for c in os.listdir(direc) if c.endswith('.csv')]\n",
    "list_csv = sorted(dates, key=lambda s: (s[6:], s[:6]))  # mm-dd-yyyy.csv to yyyy.csv, mm-dd-\n",
    "# XXX *not* their original code, which had Jan 2021 before May 2020 :(\n",
    "\n",
    "us = []\n",
    "for file in list_csv:\n",
    "    sample = (\n",
    "        pd.read_csv(os.path.join(direc, file))\n",
    "          .set_index(\"Province_State\")[[\"Confirmed\", \"Recovered\", \"Deaths\"]]\n",
    "          .sort_values(by = \"Confirmed\", ascending = False)\n",
    "          # XXX  Is this really how we want it sorted? What order is the adjacency matrix below in?\n",
    "    )\n",
    "    us.append(sample.drop(['Diamond Princess', 'Grand Princess']))\n",
    "us = pd.concat(us, axis=1, join='inner')\n",
    "us_data = us.values.reshape(56,-1,3)\n",
    "us_data[us_data!=us_data] = 0\n",
    "# XXX   Do we really want this to be 0? Lots of states (CA, FL, IL, ...) never use it\n",
    "\n",
    "#####################################################################################\n",
    "# Normalize by total population of each state\n",
    "population = pd.read_csv(\"ode_nn/population_states.csv\", index_col=0)\n",
    "scaler = population.loc[us.index].values.reshape(56, 1, 1)*1e6\n",
    "us_data = us_data/scaler\n",
    "us_data = torch.from_numpy(us_data).float().to(device)\n",
    "\n",
    "# Mobility Data: beta = 1 - stay_at_home_percentages\n",
    "beta = torch.load(\"ode_nn/mobility/us_beta.pt\").float()\n",
    "\n",
    "# U.S states 1-0 Adjacency Matrix\n",
    "graph = torch.load(\"ode_nn/mobility/us_graph.pt\").float()"
   ]
  },
  {
   "cell_type": "code",
   "execution_count": 19,
   "metadata": {},
   "outputs": [
    {
     "data": {
      "text/html": [
       "<div>\n",
       "<style scoped>\n",
       "    .dataframe tbody tr th:only-of-type {\n",
       "        vertical-align: middle;\n",
       "    }\n",
       "\n",
       "    .dataframe tbody tr th {\n",
       "        vertical-align: top;\n",
       "    }\n",
       "\n",
       "    .dataframe thead th {\n",
       "        text-align: right;\n",
       "    }\n",
       "</style>\n",
       "<table border=\"1\" class=\"dataframe\">\n",
       "  <thead>\n",
       "    <tr style=\"text-align: right;\">\n",
       "      <th></th>\n",
       "      <th>Confirmed</th>\n",
       "      <th>Recovered</th>\n",
       "      <th>Deaths</th>\n",
       "      <th>Confirmed</th>\n",
       "      <th>Recovered</th>\n",
       "      <th>Deaths</th>\n",
       "      <th>Confirmed</th>\n",
       "      <th>Recovered</th>\n",
       "      <th>Deaths</th>\n",
       "      <th>Confirmed</th>\n",
       "      <th>...</th>\n",
       "      <th>Deaths</th>\n",
       "      <th>Confirmed</th>\n",
       "      <th>Recovered</th>\n",
       "      <th>Deaths</th>\n",
       "      <th>Confirmed</th>\n",
       "      <th>Recovered</th>\n",
       "      <th>Deaths</th>\n",
       "      <th>Confirmed</th>\n",
       "      <th>Recovered</th>\n",
       "      <th>Deaths</th>\n",
       "    </tr>\n",
       "    <tr>\n",
       "      <th>Province_State</th>\n",
       "      <th></th>\n",
       "      <th></th>\n",
       "      <th></th>\n",
       "      <th></th>\n",
       "      <th></th>\n",
       "      <th></th>\n",
       "      <th></th>\n",
       "      <th></th>\n",
       "      <th></th>\n",
       "      <th></th>\n",
       "      <th></th>\n",
       "      <th></th>\n",
       "      <th></th>\n",
       "      <th></th>\n",
       "      <th></th>\n",
       "      <th></th>\n",
       "      <th></th>\n",
       "      <th></th>\n",
       "      <th></th>\n",
       "      <th></th>\n",
       "      <th></th>\n",
       "    </tr>\n",
       "  </thead>\n",
       "  <tbody>\n",
       "    <tr>\n",
       "      <th>California</th>\n",
       "      <td>2365024</td>\n",
       "      <td>NaN</td>\n",
       "      <td>26363</td>\n",
       "      <td>2415246</td>\n",
       "      <td>NaN</td>\n",
       "      <td>26551</td>\n",
       "      <td>2452262</td>\n",
       "      <td>NaN</td>\n",
       "      <td>26638</td>\n",
       "      <td>2490518</td>\n",
       "      <td>...</td>\n",
       "      <td>24546</td>\n",
       "      <td>2258759</td>\n",
       "      <td>NaN</td>\n",
       "      <td>24988</td>\n",
       "      <td>2291414</td>\n",
       "      <td>NaN</td>\n",
       "      <td>25417</td>\n",
       "      <td>2325599</td>\n",
       "      <td>NaN</td>\n",
       "      <td>25986</td>\n",
       "    </tr>\n",
       "    <tr>\n",
       "      <th>Texas</th>\n",
       "      <td>1782956</td>\n",
       "      <td>1435164.0</td>\n",
       "      <td>28359</td>\n",
       "      <td>1801181</td>\n",
       "      <td>1443061.0</td>\n",
       "      <td>28442</td>\n",
       "      <td>1816886</td>\n",
       "      <td>1451846.0</td>\n",
       "      <td>28496</td>\n",
       "      <td>1831146</td>\n",
       "      <td>...</td>\n",
       "      <td>27205</td>\n",
       "      <td>1732971</td>\n",
       "      <td>1387358.0</td>\n",
       "      <td>27436</td>\n",
       "      <td>1754975</td>\n",
       "      <td>1402336.0</td>\n",
       "      <td>27741</td>\n",
       "      <td>1772784</td>\n",
       "      <td>1423001.0</td>\n",
       "      <td>28066</td>\n",
       "    </tr>\n",
       "    <tr>\n",
       "      <th>Florida</th>\n",
       "      <td>1323315</td>\n",
       "      <td>NaN</td>\n",
       "      <td>21673</td>\n",
       "      <td>1354833</td>\n",
       "      <td>NaN</td>\n",
       "      <td>21890</td>\n",
       "      <td>1365436</td>\n",
       "      <td>NaN</td>\n",
       "      <td>21987</td>\n",
       "      <td>1376692</td>\n",
       "      <td>...</td>\n",
       "      <td>21308</td>\n",
       "      <td>1292252</td>\n",
       "      <td>NaN</td>\n",
       "      <td>21409</td>\n",
       "      <td>1306123</td>\n",
       "      <td>NaN</td>\n",
       "      <td>21546</td>\n",
       "      <td>1323315</td>\n",
       "      <td>NaN</td>\n",
       "      <td>21673</td>\n",
       "    </tr>\n",
       "    <tr>\n",
       "      <th>New York</th>\n",
       "      <td>995816</td>\n",
       "      <td>102968.0</td>\n",
       "      <td>38155</td>\n",
       "      <td>1011665</td>\n",
       "      <td>103828.0</td>\n",
       "      <td>38273</td>\n",
       "      <td>1023897</td>\n",
       "      <td>104402.0</td>\n",
       "      <td>38415</td>\n",
       "      <td>1035139</td>\n",
       "      <td>...</td>\n",
       "      <td>37548</td>\n",
       "      <td>950473</td>\n",
       "      <td>100442.0</td>\n",
       "      <td>37687</td>\n",
       "      <td>963390</td>\n",
       "      <td>101295.0</td>\n",
       "      <td>37840</td>\n",
       "      <td>978783</td>\n",
       "      <td>102129.0</td>\n",
       "      <td>37983</td>\n",
       "    </tr>\n",
       "    <tr>\n",
       "      <th>Illinois</th>\n",
       "      <td>963389</td>\n",
       "      <td>NaN</td>\n",
       "      <td>17978</td>\n",
       "      <td>975352</td>\n",
       "      <td>NaN</td>\n",
       "      <td>18217</td>\n",
       "      <td>979821</td>\n",
       "      <td>NaN</td>\n",
       "      <td>18322</td>\n",
       "      <td>984880</td>\n",
       "      <td>...</td>\n",
       "      <td>17470</td>\n",
       "      <td>948006</td>\n",
       "      <td>NaN</td>\n",
       "      <td>17596</td>\n",
       "      <td>955380</td>\n",
       "      <td>NaN</td>\n",
       "      <td>17811</td>\n",
       "      <td>963389</td>\n",
       "      <td>NaN</td>\n",
       "      <td>17978</td>\n",
       "    </tr>\n",
       "  </tbody>\n",
       "</table>\n",
       "<p>5 rows × 1077 columns</p>\n",
       "</div>"
      ],
      "text/plain": [
       "                Confirmed  Recovered  Deaths  Confirmed  Recovered  Deaths  \\\n",
       "Province_State                                                               \n",
       "California        2365024        NaN   26363    2415246        NaN   26551   \n",
       "Texas             1782956  1435164.0   28359    1801181  1443061.0   28442   \n",
       "Florida           1323315        NaN   21673    1354833        NaN   21890   \n",
       "New York           995816   102968.0   38155    1011665   103828.0   38273   \n",
       "Illinois           963389        NaN   17978     975352        NaN   18217   \n",
       "\n",
       "                Confirmed  Recovered  Deaths  Confirmed  ...  Deaths  \\\n",
       "Province_State                                           ...           \n",
       "California        2452262        NaN   26638    2490518  ...   24546   \n",
       "Texas             1816886  1451846.0   28496    1831146  ...   27205   \n",
       "Florida           1365436        NaN   21987    1376692  ...   21308   \n",
       "New York          1023897   104402.0   38415    1035139  ...   37548   \n",
       "Illinois           979821        NaN   18322     984880  ...   17470   \n",
       "\n",
       "                Confirmed  Recovered  Deaths  Confirmed  Recovered  Deaths  \\\n",
       "Province_State                                                               \n",
       "California        2258759        NaN   24988    2291414        NaN   25417   \n",
       "Texas             1732971  1387358.0   27436    1754975  1402336.0   27741   \n",
       "Florida           1292252        NaN   21409    1306123        NaN   21546   \n",
       "New York           950473   100442.0   37687     963390   101295.0   37840   \n",
       "Illinois           948006        NaN   17596     955380        NaN   17811   \n",
       "\n",
       "                Confirmed  Recovered  Deaths  \n",
       "Province_State                                \n",
       "California        2325599        NaN   25986  \n",
       "Texas             1772784  1423001.0   28066  \n",
       "Florida           1323315        NaN   21673  \n",
       "New York           978783   102129.0   37983  \n",
       "Illinois           963389        NaN   17978  \n",
       "\n",
       "[5 rows x 1077 columns]"
      ]
     },
     "execution_count": 19,
     "metadata": {},
     "output_type": "execute_result"
    }
   ],
   "source": [
    "us.head()"
   ]
  },
  {
   "cell_type": "code",
   "execution_count": 5,
   "metadata": {},
   "outputs": [
    {
     "data": {
      "text/plain": [
       "<matplotlib.image.AxesImage at 0x7f5e6ff9b880>"
      ]
     },
     "execution_count": 5,
     "metadata": {},
     "output_type": "execute_result"
    },
    {
     "data": {
      "image/png": "[encoded data removed]",
      "text/plain": [
       "<Figure size 288x288 with 1 Axes>"
      ]
     },
     "metadata": {
      "needs_background": "light"
     },
     "output_type": "display_data"
    }
   ],
   "source": [
    "plt.matshow(graph.numpy())"
   ]
  },
  {
   "cell_type": "markdown",
   "metadata": {},
   "source": [
    "## Train AutoODE-COVID"
   ]
  },
  {
   "cell_type": "code",
   "execution_count": 8,
   "metadata": {},
   "outputs": [
    {
     "data": {
      "application/vnd.jupyter.widget-view+json": {
       "model_id": "cf20ab18d821471aa1299c3aeeaf8baf",
       "version_major": 2,
       "version_minor": 0
      },
      "text/plain": [
       "HBox(children=(HTML(value=''), FloatProgress(value=0.0, max=20000.0), HTML(value='')))"
      ]
     },
     "metadata": {},
     "output_type": "display_data"
    },
    {
     "name": "stdout",
     "output_type": "stream",
     "text": [
      "\n"
     ]
    },
    {
     "ename": "TypeError",
     "evalue": "can't convert cuda:0 device type tensor to numpy. Use Tensor.cpu() to copy the tensor to host memory first.",
     "output_type": "error",
     "traceback": [
      "\u001b[0;31m---------------------------------------------------------------------------\u001b[0m",
      "\u001b[0;31mTypeError\u001b[0m                                 Traceback (most recent call last)",
      "\u001b[0;32m<ipython-input-8-c08bb2c66f7d>\u001b[0m in \u001b[0;36m<module>\u001b[0;34m\u001b[0m\n\u001b[1;32m     61\u001b[0m \u001b[0;31m########################################################################\u001b[0m\u001b[0;34m\u001b[0m\u001b[0;34m\u001b[0m\u001b[0;34m\u001b[0m\u001b[0m\n\u001b[1;32m     62\u001b[0m \u001b[0mname\u001b[0m \u001b[0;34m=\u001b[0m \u001b[0;34m\"autoode-covid\"\u001b[0m\u001b[0;34m\u001b[0m\u001b[0;34m\u001b[0m\u001b[0m\n\u001b[0;32m---> 63\u001b[0;31m \u001b[0my_approx\u001b[0m \u001b[0;34m=\u001b[0m \u001b[0mbest_model\u001b[0m\u001b[0;34m(\u001b[0m\u001b[0mdata\u001b[0m\u001b[0;34m.\u001b[0m\u001b[0mshape\u001b[0m\u001b[0;34m[\u001b[0m\u001b[0;36m1\u001b[0m\u001b[0;34m]\u001b[0m\u001b[0;34m)\u001b[0m\u001b[0;34m.\u001b[0m\u001b[0mdata\u001b[0m\u001b[0;34m.\u001b[0m\u001b[0mnumpy\u001b[0m\u001b[0;34m(\u001b[0m\u001b[0;34m)\u001b[0m\u001b[0;34m\u001b[0m\u001b[0;34m\u001b[0m\u001b[0m\n\u001b[0m\u001b[1;32m     64\u001b[0m \u001b[0my_exact\u001b[0m \u001b[0;34m=\u001b[0m \u001b[0mdata\u001b[0m\u001b[0;34m.\u001b[0m\u001b[0mdata\u001b[0m\u001b[0;34m.\u001b[0m\u001b[0mnumpy\u001b[0m\u001b[0;34m(\u001b[0m\u001b[0;34m)\u001b[0m\u001b[0;34m\u001b[0m\u001b[0;34m\u001b[0m\u001b[0m\n\u001b[1;32m     65\u001b[0m \u001b[0mprint\u001b[0m\u001b[0;34m(\u001b[0m\u001b[0mlist_csv\u001b[0m\u001b[0;34m[\u001b[0m\u001b[0mtest_idx\u001b[0m\u001b[0;34m]\u001b[0m\u001b[0;34m[\u001b[0m\u001b[0;34m:\u001b[0m\u001b[0;36m10\u001b[0m\u001b[0;34m]\u001b[0m\u001b[0;34m)\u001b[0m\u001b[0;34m\u001b[0m\u001b[0;34m\u001b[0m\u001b[0m\n",
      "\u001b[0;31mTypeError\u001b[0m: can't convert cuda:0 device type tensor to numpy. Use Tensor.cpu() to copy the tensor to host memory first."
     ]
    }
   ],
   "source": [
    "##################################################################\n",
    "test_idx = 131\n",
    "\n",
    "# Learning Rate\n",
    "lr = 0.01\n",
    "\n",
    "# number of historic data points for fitting\n",
    "input_steps = 10 \n",
    "\n",
    "# forecasting horizon\n",
    "output_steps = 7\n",
    "\n",
    "# number of epochs for training\n",
    "num_epochs = 20000\n",
    "\n",
    "# select data for training\n",
    "data = us_data[:, test_idx-input_steps:test_idx+7]\n",
    "y_exact = data[:,:input_steps]\n",
    "\n",
    "##################################################################\n",
    "\n",
    "# XXX   Are they using I, R, D correctly??? It seems like maybe no...(daily diffs versus totals, etc)\n",
    "\n",
    "\n",
    "model = AutoODE_COVID(initial_I = data[:,0,0], initial_R = data[:,0,1], initial_D = data[:,0,2],\n",
    "                      num_regions = 56, solver = \"RK4\", n_breaks = 1, graph = graph).to(device)\n",
    "\n",
    "optimizer = torch.optim.Adam(model.parameters(), lr)\n",
    "scheduler = torch.optim.lr_scheduler.StepLR(optimizer, step_size= 1000, gamma=0.9)\n",
    "loss_fun = torch.nn.MSELoss()\n",
    "min_loss = 1\n",
    "\n",
    "##################################################################\n",
    "\n",
    "for e in tqdm(range(num_epochs)):\n",
    "    scheduler.step()\n",
    "    y_approx = model(input_steps)\n",
    "    loss = loss_fun(y_approx[:,:,-3:], y_exact[:,:input_steps,-3:])\n",
    "    \n",
    "######## Weighted Loss ########\n",
    "#     loss_weight = weight_fun(input_steps, function = \"sqrt\", feat_weight = True)\n",
    "#     loss = torch.mean(loss_weight*loss_fun(y_approx[:,:,-3:], y_exact[:,:input_steps,-3:])) \n",
    "\n",
    "######## A few constraints that can potential improve the model ######## \n",
    "#     positive_constraint = loss_fun(F.relu(-model.beta), torch.tensor(0.0).float().to(device))\n",
    "#     diagonal_constraint = loss_fun(torch.diagonal(model.A, 0),torch.tensor(1.0).float().to(device))\n",
    "#     initial_constraint = loss_fun(model.init_S + model.init_E + model.init_I + model.init_R + model.init_U, torch.tensor(1.0).float().to(device))\n",
    "#     loss += initial_constraint + positive_constraint + diagonal_constraint \n",
    "   \n",
    "    if loss.item() < min_loss:\n",
    "        best_model = model\n",
    "        min_loss = loss.item()\n",
    "    optimizer.zero_grad()\n",
    "    loss.backward(retain_graph=True)\n",
    "    optimizer.step()\n",
    "#     if e%1000 == 0:\n",
    "#         y_approx2 = model(data.shape[1]).data.numpy()\n",
    "#         y_exact2 = data.data.numpy()\n",
    "#         print(list_csv[test_idx][:10])\n",
    "#         #torch.mean(torch.abs(y_approx - y_exact)[:,-7:]).data, torch.mean(torch.abs(y_approx - y_exact)[:,30:]).data\n",
    "#         for i in range(3):\n",
    "#             print(np.mean(np.abs(y_approx2*scaler - y_exact2*scaler)[:,-7:, i]))"
   ]
  },
  {
   "cell_type": "code",
   "execution_count": 10,
   "metadata": {},
   "outputs": [
    {
     "name": "stdout",
     "output_type": "stream",
     "text": [
      "05-18-2020\n",
      "326.36781868259953\n",
      "901.7405160169485\n",
      "169.3536832595483\n"
     ]
    }
   ],
   "source": [
    "name = \"autoode-covid\"\n",
    "y_approx = best_model(data.shape[1]).cpu().data.numpy()\n",
    "y_exact = data.cpu().data.numpy()\n",
    "print(list_csv[test_idx][:10])\n",
    "#torch.mean(torch.abs(y_approx - y_exact)[:,-7:]).data, torch.mean(torch.abs(y_approx - y_exact)[:,30:]).data\n",
    "for i in range(3):\n",
    "    print(np.mean(np.abs(y_approx*scaler - y_exact*scaler)[:,-7:, i]))\n",
    "    \n",
    "torch.save({\"model\": best_model,\n",
    "            \"preds\": y_approx*scaler,\n",
    "            \"trues\": y_exact*scaler},\n",
    "            \".pt\")"
   ]
  },
  {
   "cell_type": "code",
   "execution_count": 14,
   "metadata": {},
   "outputs": [
    {
     "data": {
      "text/plain": [
       "torch.Size([56, 359, 3])"
      ]
     },
     "execution_count": 14,
     "metadata": {},
     "output_type": "execute_result"
    }
   ],
   "source": [
    "us_data.shape"
   ]
  },
  {
   "cell_type": "code",
   "execution_count": 13,
   "metadata": {},
   "outputs": [
    {
     "data": {
      "text/plain": [
       "(56, 17, 3)"
      ]
     },
     "execution_count": 13,
     "metadata": {},
     "output_type": "execute_result"
    }
   ],
   "source": [
    "y_approx.shape"
   ]
  }
 ],
 "metadata": {
  "kernelspec": {
   "display_name": "Python 3",
   "language": "python",
   "name": "python3"
  },
  "language_info": {
   "codemirror_mode": {
    "name": "ipython",
    "version": 3
   },
   "file_extension": ".py",
   "mimetype": "text/x-python",
   "name": "python",
   "nbconvert_exporter": "python",
   "pygments_lexer": "ipython3",
   "version": "3.8.5"
  }
 },
 "nbformat": 4,
 "nbformat_minor": 4
}
