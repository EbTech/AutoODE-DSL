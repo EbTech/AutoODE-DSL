{
 "cells": [
  {
   "cell_type": "code",
   "execution_count": 1,
   "metadata": {},
   "outputs": [
    {
     "name": "stderr",
     "output_type": "stream",
     "text": [
      "Using backend: pytorch\n",
      "/global/homes/r/rwang2/.conda/envs/myenv/lib/python3.6/site-packages/dgl/base.py:45: DGLWarning: Detected an old version of PyTorch. Suggest using torch>=1.5.0 for the best experience.\n",
      "  return warnings.warn(message, category=category, stacklevel=1)\n"
     ]
    }
   ],
   "source": [
    "import torch\n",
    "import torch.nn as nn\n",
    "import os\n",
    "from ode_nn import AutoODE_COVID, weight_fun\n",
    "from ode_nn import Dataset, train_epoch, eval_epoch, get_lr\n",
    "import numpy as np\n",
    "import pandas as pd\n",
    "import torch.nn.functional as F\n",
    "from torch.utils import data\n",
    "import matplotlib.pyplot as plt\n",
    "import random\n",
    "import warnings\n",
    "from ode_nn import Dataset_graph, train_epoch_graph, eval_epoch_graph, get_lr\n",
    "warnings.filterwarnings(\"ignore\")\n",
    "device = torch.device(\"cuda\" if torch.cuda.is_available() else \"cpu\")"
   ]
  },
  {
   "cell_type": "markdown",
   "metadata": {},
   "source": [
    "## Data Preprocessing"
   ]
  },
  {
   "cell_type": "code",
   "execution_count": 12,
   "metadata": {},
   "outputs": [],
   "source": [
    "# Read and Preprocess the csv files from John Hopkins Dataset\n",
    "# https://github.com/CSSEGISandData/COVID-19/tree/master/csse_covid_19_data/csse_covid_19_daily_reports_us\n",
    "direc = \".../ODEs/Data/COVID/\" # Directory that contains daily report csv files.\n",
    "list_csv = sorted(os.listdir(direc))\n",
    "us = []\n",
    "for file in list_csv:\n",
    "    sample = pd.read_csv(direc + file).set_index(\"Province_State\")[[\"Confirmed\", \"Recovered\", \"Deaths\"]].sort_values(by = \"Confirmed\", ascending = False)\n",
    "    us.append(sample.drop(['Diamond Princess', 'Grand Princess']))\n",
    "us = pd.concat(us, axis=1, join='inner')\n",
    "us_data = us.values.reshape(56,-1,3)\n",
    "us_data[us_data!=us_data] = 0\n",
    "\n",
    "#####################################################################################\n",
    "# Normalize by total population of each state\n",
    "population = pd.read_csv(\".../ode_nn/population_states.csv\", index_col=0)\n",
    "scaler = population.loc[us.index].values.reshape(56, 1, 1)*1e6\n",
    "us_data = us_data/scaler\n",
    "us_data = torch.from_numpy(us_data).float().to(device)\n",
    "\n",
    "# Mobility Data: beta = 1 - stay_at_home_percentages\n",
    "beta = torch.load(\".../ode_nn/mobility/us_beta.pt\").float()\n",
    "\n",
    "# U.S states 1-0 Adjacency Matrix\n",
    "graph = torch.load(\".../ode_nn/mobility/us_graph.pt\").float()"
   ]
  },
  {
   "cell_type": "markdown",
   "metadata": {},
   "source": [
    "## Train AutoODE-COVID"
   ]
  },
  {
   "cell_type": "code",
   "execution_count": null,
   "metadata": {},
   "outputs": [],
   "source": [
    "##################################################################\n",
    "test_idx = 131\n",
    "\n",
    "# Learning Rate\n",
    "lr = 0.01\n",
    "\n",
    "# number of historic data points for fitting\n",
    "input_steps = 10 \n",
    "\n",
    "# forecasting horizon\n",
    "output_steps = 7\n",
    "\n",
    "# number of epochs for training\n",
    "num_epochs = 20000\n",
    "\n",
    "# select data for training\n",
    "data = us_data[:, test_idx-input_steps:test_idx+7]\n",
    "y_exact = data[:,:input_steps]\n",
    "\n",
    "##################################################################\n",
    "\n",
    "model = AutoODE_COVID(initial_I = data[:,0,0], initial_R = data[:,0,1], initial_D = data[:,0,2],\n",
    "                      num_regions = 56, solver = \"RK4\", n_breaks = 1, graph = graph).to(device)\n",
    "\n",
    "optimizer = torch.optim.Adam(model.parameters(), lr)\n",
    "scheduler = torch.optim.lr_scheduler.StepLR(optimizer, step_size= 1000, gamma=0.9)\n",
    "loss_fun = torch.nn.MSELoss()\n",
    "min_loss = 1\n",
    "\n",
    "##################################################################\n",
    "\n",
    "for e in range(num_epochs):\n",
    "    scheduler.step()\n",
    "    y_approx = model(input_steps)\n",
    "    loss = loss_fun(y_approx[:,:,-3:], y_exact[:,:input_steps,-3:])\n",
    "    \n",
    "######## Weighted Loss ########\n",
    "#     loss_weight = weight_fun(input_steps, function = \"sqrt\", feat_weight = True)\n",
    "#     loss = torch.mean(loss_weight*loss_fun(y_approx[:,:,-3:], y_exact[:,:input_steps,-3:])) \n",
    "\n",
    "######## A few constraints that can potential improve the model ########\n",
    "#     positive_constraint = loss_fun(F.relu(-model.beta), torch.tensor(0.0).float().to(device))\n",
    "#     diagonal_constraint = loss_fun(torch.diagonal(model.A, 0),torch.tensor(1.0).float().to(device))\n",
    "#     initial_constraint = loss_fun(model.init_S + model.init_E + model.init_I + model.init_R + model.init_U, torch.tensor(1.0).float().to(device))\n",
    "#     loss += initial_constraint + positive_constraint + diagonal_constraint \n",
    "   \n",
    "    if loss.item() < min_loss:\n",
    "        best_model = model\n",
    "        min_loss = loss.item()\n",
    "    optimizer.zero_grad()\n",
    "    loss.backward(retain_graph=True)\n",
    "    optimizer.step()\n",
    "#     if e%1000 == 0:\n",
    "#         y_approx2 = model(data.shape[1]).data.numpy()\n",
    "#         y_exact2 = data.data.numpy()\n",
    "#         print(list_csv[test_idx][:10])\n",
    "#         #torch.mean(torch.abs(y_approx - y_exact)[:,-7:]).data, torch.mean(torch.abs(y_approx - y_exact)[:,30:]).data\n",
    "#         for i in range(3):\n",
    "#             print(np.mean(np.abs(y_approx2*scaler - y_exact2*scaler)[:,-7:, i]))\n",
    "\n",
    "########################################################################\n",
    "name = \"autoode-covid\"\n",
    "y_approx = best_model(data.shape[1]).data.numpy()\n",
    "y_exact = data.data.numpy()\n",
    "print(list_csv[test_idx][:10])\n",
    "#torch.mean(torch.abs(y_approx - y_exact)[:,-7:]).data, torch.mean(torch.abs(y_approx - y_exact)[:,30:]).data\n",
    "for i in range(3):\n",
    "    print(np.mean(np.abs(y_approx*scaler - y_exact*scaler)[:,-7:, i]))\n",
    "\n",
    "torch.save({\"model\": best_model,\n",
    "            \"preds\": y_approx*scaler,\n",
    "            \"trues\": y_exact*scaler},\n",
    "            \".pt\")"
   ]
  }
 ],
 "metadata": {
  "kernelspec": {
   "display_name": "MyEnv",
   "language": "python",
   "name": "myenv"
  },
  "language_info": {
   "codemirror_mode": {
    "name": "ipython",
    "version": 3
   },
   "file_extension": ".py",
   "mimetype": "text/x-python",
   "name": "python",
   "nbconvert_exporter": "python",
   "pygments_lexer": "ipython3",
   "version": "3.6.9"
  }
 },
 "nbformat": 4,
 "nbformat_minor": 4
}
