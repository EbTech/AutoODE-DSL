{
 "cells": [
  {
   "cell_type": "markdown",
   "id": "5c22d65b",
   "metadata": {},
   "source": [
    "# SEIR\n",
    "\n",
    "This notebook is just for quickly rolling out SEIR models implemented with `scipy`'s ODE solver. This will let us prototype new interactions if we want to and understand the dynamics."
   ]
  },
  {
   "cell_type": "code",
   "execution_count": 1,
   "id": "a4e16a70",
   "metadata": {},
   "outputs": [],
   "source": [
    "import numpy as np\n",
    "import matplotlib.pyplot as plt\n",
    "from scipy.integrate import solve_ivp\n",
    "from dataclasses import dataclass\n",
    "\n",
    "from typing import List\n",
    "\n",
    "# plt.rc(\"text\", usetex=True)\n",
    "plt.rc(\"font\", size=15, family=\"serif\")\n",
    "%matplotlib inline"
   ]
  },
  {
   "cell_type": "code",
   "execution_count": 2,
   "id": "e7bae2b8",
   "metadata": {},
   "outputs": [],
   "source": [
    "N = 100.  # total population. arbitrary\n",
    "\n",
    "@dataclass\n",
    "class SEIR:\n",
    "    # https://en.wikipedia.org/wiki/Compartmental_models_in_epidemiology#The_SEIR_model\n",
    "    alpha: float = 5e-3  # note: this is a complete guess\n",
    "    beta: float = 0.5\n",
    "    gamma: float = 0.035\n",
    "    mu: float = 5e-3\n",
    "        \n",
    "    @property\n",
    "    def names(self) -> List[str]:\n",
    "        return [\"S\", \"E\", \"I\", \"R\"]\n",
    "\n",
    "    def derivs(self, time: float, variables: np.ndarray):\n",
    "        S, E, I, R = variables\n",
    "        return np.array([\n",
    "            self.mu * (N - S) - self.beta * I * S / N,\n",
    "            self.beta * I * S / N - (self.mu + self.alpha) * E,\n",
    "            self.alpha * E -  (self.gamma + self.mu) * I,\n",
    "            self.gamma * I - self.mu * R,\n",
    "        ])"
   ]
  },
  {
   "cell_type": "code",
   "execution_count": 3,
   "id": "212f0320",
   "metadata": {},
   "outputs": [],
   "source": [
    "model = SEIR()\n",
    "start = [N * 0.99, 0.01, 0, 0]  # all in S\n",
    "t_span = (0, N * 10)\n",
    "result = solve_ivp(model.derivs, t_span, start)"
   ]
  },
  {
   "cell_type": "code",
   "execution_count": 4,
   "id": "f65b6a48",
   "metadata": {},
   "outputs": [
    {
     "data": {
      "text/plain": [
       "<matplotlib.legend.Legend at 0x11f240790>"
      ]
     },
     "execution_count": 4,
     "metadata": {},
     "output_type": "execute_result"
    },
    {
     "data": {
      "image/png": "[encoded data removed]",
      "text/plain": [
       "<Figure size 432x288 with 1 Axes>"
      ]
     },
     "metadata": {
      "needs_background": "light"
     },
     "output_type": "display_data"
    }
   ],
   "source": [
    "t = result.t\n",
    "variables = result.y\n",
    "\n",
    "for v, name in zip(variables, model.names):\n",
    "    plt.plot(t, v, label=name)\n",
    "plt.legend()"
   ]
  },
  {
   "cell_type": "code",
   "execution_count": null,
   "id": "0688f0f2",
   "metadata": {},
   "outputs": [],
   "source": []
  }
 ],
 "metadata": {
  "kernelspec": {
   "display_name": "Python 3",
   "language": "python",
   "name": "python3"
  },
  "language_info": {
   "codemirror_mode": {
    "name": "ipython",
    "version": 3
   },
   "file_extension": ".py",
   "mimetype": "text/x-python",
   "name": "python",
   "nbconvert_exporter": "python",
   "pygments_lexer": "ipython3",
   "version": "3.8.8"
  }
 },
 "nbformat": 4,
 "nbformat_minor": 5
}
