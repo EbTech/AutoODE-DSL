{
 "cells": [
  {
   "cell_type": "code",
   "execution_count": 6,
   "metadata": {},
   "outputs": [],
   "source": [
    "import torch\n",
    "import torch.nn as nn\n",
    "from ode_nn import Seq2Seq, Auto_FC, Transformer, Latent_ODE, Transformer_EncoderOnly, GAT, GCN\n",
    "from ode_nn import Dataset, train_epoch, eval_epoch, get_lr, Dataset_graph, train_epoch_graph, eval_epoch_graph\n",
    "import dgl\n",
    "import numpy as np\n",
    "import time\n",
    "from torch.utils import data\n",
    "import matplotlib.pyplot as plt\n",
    "import os\n",
    "import pandas as pd\n",
    "import warnings\n",
    "warnings.filterwarnings(\"ignore\")\n",
    "device = torch.device(\"cuda\" if torch.cuda.is_available() else \"cpu\")"
   ]
  },
  {
   "cell_type": "markdown",
   "metadata": {},
   "source": [
    "## Data Loader"
   ]
  },
  {
   "cell_type": "code",
   "execution_count": 2,
   "metadata": {},
   "outputs": [],
   "source": [
    "input_length = 14\n",
    "mid = 14\n",
    "output_length = 7\n",
    "batch_size = 128\n",
    "\n",
    "# Directories to the samples of subsequences\n",
    "train_direc = '/global/cscratch1/sd/rwang2/ODEs/Data/covid_seq/train/sample_'\n",
    "test_direc = '/global/cscratch1/sd/rwang2/ODEs/Data/covid_seq/test/sample_'\n",
    "\n",
    "train_indices = list(range(4000))\n",
    "valid_indices = list(range(4000, 5250))\n",
    "test_indices = list(range(150))\n",
    "\n",
    "train_set = Dataset(train_indices, input_length, mid, output_length, train_direc, entire_target = True)\n",
    "valid_set = Dataset(valid_indices, input_length, mid, output_length, train_direc, entire_target = True)\n",
    "test_set = Dataset(test_indices, input_length, mid, output_length, test_direc, entire_target = True)\n",
    "\n",
    "train_loader = data.DataLoader(train_set, batch_size = batch_size, shuffle = True)\n",
    "valid_loader = data.DataLoader(valid_set, batch_size = batch_size, shuffle = False)\n",
    "test_loader = data.DataLoader(test_set, batch_size = batch_size, shuffle = False)"
   ]
  },
  {
   "cell_type": "markdown",
   "metadata": {},
   "source": [
    "## Train Deep Sequence Models"
   ]
  },
  {
   "cell_type": "code",
   "execution_count": null,
   "metadata": {},
   "outputs": [],
   "source": [
    "name = \"...\"\n",
    "model = Auto_FC(input_length = input_length, input_dim = 3, output_dim = 3, hidden_dim = 16, quantile = True).to(device)\n",
    "# model = Seq2Seq(input_dim = 3, output_dim = 3, hidden_dim = 128, num_layers = 1, quantile = True).to(device)\n",
    "# model = Transformer(input_dim = 3, output_dim = 3, nhead = 4, d_model = 32, num_layers = 3, dim_feedforward = 64, quantile = True).to(device)\n",
    "# model = Latent_ODE(latent_dim = 64, obs_dim = 3, nhidden = 128, rhidden = 128, quantile = True, aug = False).to(device).to(device)\n",
    "\n",
    "####################################\n",
    "learning_rate = 0.01\n",
    "optimizer = torch.optim.Adam(model.parameters(), lr = learning_rate)\n",
    "scheduler = torch.optim.lr_scheduler.StepLR(optimizer, step_size= 1, gamma=0.95)\n",
    "loss_fun = nn.MSELoss()\n",
    "print(sum(p.numel() for p in model.parameters() if p.requires_grad))\n",
    "train_rmse = []\n",
    "valid_rmse = []\n",
    "test_rmse = []\n",
    "min_rmse = 1\n",
    "\n",
    "for i in range(1, 200):\n",
    "    start = time.time()\n",
    "    scheduler.step()\n",
    "    model.train()\n",
    "    train_rmse.append(train_epoch(model, train_loader, optimizer, loss_fun)[-1])#, feed_tgt = True\n",
    "    model.eval()\n",
    "    preds, trues, rmse = eval_epoch(model, valid_loader, loss_fun, concat_input = True)\n",
    "    valid_rmse.append(rmse)\n",
    "    if valid_rmse[-1] < min_rmse:\n",
    "        min_rmse = valid_rmse[-1] \n",
    "        best_model = model \n",
    "        torch.save(best_model, name + \".pth\")\n",
    "    end = time.time()\n",
    "    if (len(train_rmse) > 30 and np.mean(valid_rmse[-5:]) >= np.mean(valid_rmse[-10:-5])):\n",
    "            break\n",
    "    print(\"Epoch \" + str(i) + \": \", \"train rmse:\", train_rmse[-1], \"valid rmse:\",valid_rmse[-1], \n",
    "              \"time:\",round((end-start)/60,3), \"Learning rate:\", format(get_lr(optimizer), \"5.2e\"))\n",
    "\n",
    "preds, trues, rmses = eval_epoch(best_model, test_loader, loss_fun, concat_input = False)\n",
    "\n",
    "torch.save({\"preds\": preds[:,-7:],\n",
    "            \"trues\": trues,\n",
    "            \"model\": best_model},\n",
    "             name + \".pt\")"
   ]
  },
  {
   "cell_type": "markdown",
   "metadata": {},
   "source": [
    "## Train Graphic Models"
   ]
  },
  {
   "cell_type": "code",
   "execution_count": 4,
   "metadata": {},
   "outputs": [],
   "source": [
    "input_length = 14\n",
    "mid = 14\n",
    "output_length = 7\n",
    "batch_size = 4\n",
    "####################################\n",
    "train_direc = '.../graph_train/sample_'\n",
    "test_direc = '.../graph_test/sample_'\n",
    "\n",
    "train_indices = list(range(80))\n",
    "valid_indices = list(range(80, 100))\n",
    "test_indices = list(range(3))\n",
    "####################################\n",
    "train_set = Dataset_graph(train_indices, input_length, mid, output_length, train_direc)\n",
    "valid_set = Dataset_graph(valid_indices, input_length, mid, output_length, train_direc)\n",
    "test_set = Dataset_graph(test_indices, input_length, mid, output_length, test_direc)\n",
    "\n",
    "train_loader = data.DataLoader(train_set, batch_size = batch_size, shuffle = True)\n",
    "valid_loader = data.DataLoader(valid_set, batch_size = batch_size, shuffle = False)\n",
    "test_loader = data.DataLoader(test_set, batch_size = batch_size, shuffle = False)\n",
    "\n",
    "################################\n",
    "# U.S. states 1-0 adjacency matrix\n",
    "graph = torch.load(\"/global/cscratch1/sd/rwang2/ODEs/Main/ode_nn/mobility/us_graph.pt\")[:50,:50]\n",
    "G = dgl.DGLGraph().to(device)\n",
    "G.add_nodes(50)\n",
    "for i in range(50):\n",
    "    for j in range(50):\n",
    "        if graph[i,j] == 1:\n",
    "            G.add_edge(i,j)"
   ]
  },
  {
   "cell_type": "code",
   "execution_count": null,
   "metadata": {},
   "outputs": [],
   "source": [
    "name = \"covid_gcn\"\n",
    "model = GCN(in_dim = 42, out_dim = 3, hidden_dim = 16, num_layer = 3).to(device)\n",
    "#model = GAT(in_dim = 42, out_dim = 3, hidden_dim = 32, num_heads = 4, num_layer = 6).to(device)\n",
    "print(sum(p.numel() for p in model.parameters() if p.requires_grad))\n",
    "learning_rate = 0.01\n",
    "optimizer = torch.optim.Adam(model.parameters(), lr = learning_rate)\n",
    "scheduler = torch.optim.lr_scheduler.StepLR(optimizer, step_size= 1, gamma=0.9)\n",
    "loss_fun = nn.MSELoss()\n",
    "sum(p.numel() for p in model.parameters() if p.requires_grad) \n",
    "train_rmse = []\n",
    "valid_rmse = []\n",
    "test_rmse = []\n",
    "min_rmse = 1\n",
    "for i in range(1, 200):\n",
    "    start = time.time()\n",
    "    scheduler.step()\n",
    "    model.train()\n",
    "    train_rmse.append(train_epoch_graph(model, train_loader, optimizer, loss_fun, G)[-1])\n",
    "    model.eval()\n",
    "    preds, trues, rmse = eval_epoch_graph(model, valid_loader, loss_fun, G)\n",
    "    valid_rmse.append(rmse)\n",
    "    if valid_rmse[-1] < min_rmse:\n",
    "        min_rmse = valid_rmse[-1] \n",
    "        best_model = model \n",
    "        torch.save(best_model, name + \".pth\")\n",
    "    end = time.time()\n",
    "    if (len(train_rmse) > 30 and np.mean(valid_rmse[-5:]) >= np.mean(valid_rmse[-10:-5])):\n",
    "            break\n",
    "    print(\"Epoch \" + str(i) + \": \", \"train rmse:\", train_rmse[-1], \"valid rmse:\",valid_rmse[-1], \n",
    "              \"time:\",round((end-start)/60,3), \"Learning rate:\", format(get_lr(optimizer), \"5.2e\"))\n",
    "    \n",
    "preds, trues, rmse = eval_epoch_graph(best_model, test_loader, loss_fun, G)\n",
    "torch.save({\"preds\": preds,\n",
    "            \"trues\": trues,\n",
    "            \"rmse\": np.sqrt(np.mean((preds - trues[:,:,-7:])**2))}, \n",
    "            name + \".pt\")"
   ]
  }
 ],
 "metadata": {
  "kernelspec": {
   "display_name": "MyEnv",
   "language": "python",
   "name": "myenv"
  },
  "language_info": {
   "codemirror_mode": {
    "name": "ipython",
    "version": 3
   },
   "file_extension": ".py",
   "mimetype": "text/x-python",
   "name": "python",
   "nbconvert_exporter": "python",
   "pygments_lexer": "ipython3",
   "version": "3.6.9"
  }
 },
 "nbformat": 4,
 "nbformat_minor": 4
}
