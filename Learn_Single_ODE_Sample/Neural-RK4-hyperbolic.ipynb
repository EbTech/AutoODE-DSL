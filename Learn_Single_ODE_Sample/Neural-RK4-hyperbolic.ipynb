{
 "cells": [
  {
   "cell_type": "code",
   "execution_count": 1,
   "metadata": {},
   "outputs": [],
   "source": [
    "import torch\n",
    "import torch.nn as nn\n",
    "import numpy as np\n",
    "import matplotlib.pyplot as plt\n",
    "from neural_odes import *\n",
    "from tqdm import tqdm_notebook as tqdm\n",
    "device = torch.device(\"cuda\" if torch.cuda.is_available() else \"cpu\")"
   ]
  },
  {
   "cell_type": "markdown",
   "metadata": {},
   "source": [
    "## Simple Explicit ODE Solvers to solve $\\frac{dy}{dt} = f(t,y) = -2ty^2 \\iff y(t) = \\frac{1}{y_0+t^2}$."
   ]
  },
  {
   "cell_type": "code",
   "execution_count": 2,
   "metadata": {},
   "outputs": [],
   "source": [
    "dt = 0.01\n",
    "t0 = 0\n",
    "y0 = torch.Tensor([1.0]).float()\n",
    "Tn = 1\n",
    "t = torch.arange(t0, Tn+dt, dt).float()\n",
    "N = len(t)"
   ]
  },
  {
   "cell_type": "code",
   "execution_count": 3,
   "metadata": {},
   "outputs": [
    {
     "name": "stdout",
     "output_type": "stream",
     "text": [
      "The number of time steps = 100\n"
     ]
    }
   ],
   "source": [
    "print(f'The number of time steps = {N-1}')"
   ]
  },
  {
   "cell_type": "markdown",
   "metadata": {},
   "source": [
    "### 1) 4 stage explicit Runge Kutta"
   ]
  },
  {
   "cell_type": "code",
   "execution_count": 4,
   "metadata": {},
   "outputs": [],
   "source": [
    "# Define function\n",
    "# Problem is this is a lambda function and can only learn nd array\n",
    "f = lambda t,y : -2*t*y ** 2"
   ]
  },
  {
   "cell_type": "code",
   "execution_count": 5,
   "metadata": {},
   "outputs": [],
   "source": [
    "def ode_solver(f, t, y0, solver):\n",
    "    y = []\n",
    "    # Inital condiiton\n",
    "    y.append(y0)\n",
    "    if solver == 'rk4':\n",
    "        for n in range(0, N-1):\n",
    "            k1 = dt * f(t[n],y[n]) #f is lambd function\n",
    "            k2 = dt * f(t[n] + dt/2, y[n] + k1/2)\n",
    "            k3 = dt * f(t[n] + dt/2, y[n] + k2/2)\n",
    "            k4 = dt * f(t[n] + dt, y[n] + k3)\n",
    "            y.append(y[n] + 1/6 * (k1 + 2*k2 + 2*k3 + k4))\n",
    "    elif solver == 'forward_euler':\n",
    "        for n in range(0,N-1):\n",
    "            y.append(y[n] + dt * f(t[n],y[n]))\n",
    "    else:\n",
    "        print('ODE solver is not supported!')\n",
    "    return torch.cat(y)"
   ]
  },
  {
   "cell_type": "code",
   "execution_count": 6,
   "metadata": {},
   "outputs": [],
   "source": [
    "y_rk4 = ode_solver(f,t,y0, 'rk4')"
   ]
  },
  {
   "cell_type": "markdown",
   "metadata": {},
   "source": [
    "### 2) Forward Euler"
   ]
  },
  {
   "cell_type": "code",
   "execution_count": 7,
   "metadata": {},
   "outputs": [],
   "source": [
    "y_fe = ode_solver(f, t, y0, 'forward_euler')"
   ]
  },
  {
   "cell_type": "markdown",
   "metadata": {},
   "source": [
    " ### Exact Solution"
   ]
  },
  {
   "cell_type": "code",
   "execution_count": 8,
   "metadata": {},
   "outputs": [],
   "source": [
    "y_exact = y0 * torch.exp(0.5*t ** 2)\n",
    "y_exact = 1 / (1+t ** 2)"
   ]
  },
  {
   "cell_type": "code",
   "execution_count": 9,
   "metadata": {},
   "outputs": [
    {
     "data": {
      "text/plain": [
       "<matplotlib.legend.Legend at 0x7fb15b44df28>"
      ]
     },
     "execution_count": 9,
     "metadata": {},
     "output_type": "execute_result"
    },
    {
     "data": {
      "image/png": "[encoded data removed]",
      "text/plain": [
       "<Figure size 432x288 with 1 Axes>"
      ]
     },
     "metadata": {},
     "output_type": "display_data"
    }
   ],
   "source": [
    "plt.plot(t.cpu().data.numpy(), y_rk4.cpu().data.numpy(), lw=2)\n",
    "plt.plot(t.cpu().data.numpy(), y_fe.cpu().data.numpy(), 'r--')\n",
    "plt.plot(t.cpu().data.numpy(), y_exact.cpu().data.numpy() , 'g--')\n",
    "plt.legend(('RK4', 'ForwardEuler', 'Exact Sol'))"
   ]
  },
  {
   "cell_type": "markdown",
   "metadata": {},
   "source": [
    "## Use simple embedding to learn initial condition $y_0$ or $z_{t_0}$ in time series context."
   ]
  },
  {
   "cell_type": "code",
   "execution_count": 19,
   "metadata": {},
   "outputs": [],
   "source": [
    "class InitialCond(nn.Module):\n",
    "    def __init__(self, num_ts, num_params):\n",
    "        super(InitialCond, self).__init__()  \n",
    "        self.num_ts = num_ts # cardinality = number of time series = 1 for now\n",
    "        self.num_params = num_params\n",
    "        self.embedding = nn.Embedding(num_ts, num_params)\n",
    "    \n",
    "    def forward(self, f, t):\n",
    "        y0 = self.embedding(torch.arange(self.num_ts))\n",
    "        return ode_solver(f, t, y0.squeeze(0), solver)"
   ]
  },
  {
   "cell_type": "code",
   "execution_count": 20,
   "metadata": {},
   "outputs": [],
   "source": [
    "num_ts = 1\n",
    "num_params = 1 #learning only initial condition\n",
    "model = InitialCond(num_ts, num_params)\n",
    "optimizer = torch.optim.Adam(model.parameters(), 0.1)\n",
    "scheduler = torch.optim.lr_scheduler.StepLR(optimizer, step_size= 1, gamma=0.95)"
   ]
  },
  {
   "cell_type": "code",
   "execution_count": 21,
   "metadata": {},
   "outputs": [
    {
     "name": "stderr",
     "output_type": "stream",
     "text": [
      "/home/ec2-user/anaconda3/envs/pytorch_p36/lib/python3.6/site-packages/ipykernel/__main__.py:5: TqdmDeprecationWarning: This function will be removed in tqdm==5.0.0\n",
      "Please use `tqdm.notebook.tqdm` instead of `tqdm.tqdm_notebook`\n"
     ]
    },
    {
     "data": {
      "application/vnd.jupyter.widget-view+json": {
       "model_id": "8606635440584910beb3b31af00dbff3",
       "version_major": 2,
       "version_minor": 0
      },
      "text/plain": [
       "HBox(children=(FloatProgress(value=0.0, max=1000.0), HTML(value='')))"
      ]
     },
     "metadata": {},
     "output_type": "display_data"
    },
    {
     "name": "stdout",
     "output_type": "stream",
     "text": [
      "\n",
      "CPU times: user 10.2 s, sys: 13.8 ms, total: 10.2 s\n",
      "Wall time: 10.2 s\n"
     ]
    }
   ],
   "source": [
    "%%time\n",
    "num_epochs = 1000\n",
    "solver = 'forward_euler'\n",
    "loss_fun = torch.nn.MSELoss()\n",
    "\n",
    "tqdm_epochs = tqdm(range(num_epochs))\n",
    "\n",
    "for e in tqdm_epochs:\n",
    "    #forward pass\n",
    "    y = model(f, t)\n",
    "    Loss = loss_fun(y, y_exact)\n",
    "    optimizer.zero_grad()\n",
    "    Loss.backward()\n",
    "    optimizer.step()\n",
    "    tqdm_epochs.set_postfix({'loss': torch.sum(Loss).item()})"
   ]
  },
  {
   "cell_type": "code",
   "execution_count": 22,
   "metadata": {},
   "outputs": [
    {
     "data": {
      "text/plain": [
       "tensor(6.2796e-07, grad_fn=<MseLossBackward>)"
      ]
     },
     "execution_count": 22,
     "metadata": {},
     "output_type": "execute_result"
    }
   ],
   "source": [
    "Loss"
   ]
  },
  {
   "cell_type": "code",
   "execution_count": 13,
   "metadata": {},
   "outputs": [
    {
     "data": {
      "text/plain": [
       "Text(0, 0.5, 'y')"
      ]
     },
     "execution_count": 13,
     "metadata": {},
     "output_type": "execute_result"
    },
    {
     "data": {
      "image/png": "[encoded data removed]",
      "text/plain": [
       "<Figure size 432x288 with 1 Axes>"
      ]
     },
     "metadata": {},
     "output_type": "display_data"
    }
   ],
   "source": [
    "plt.plot(t.cpu().data.numpy(), y.cpu().data.numpy(),'--')\n",
    "plt.plot(t.cpu().data.numpy(), y_exact.cpu().data.numpy())\n",
    "plt.legend(('RK4_RNN', 'Exact Sol'))\n",
    "plt.xlabel('time')\n",
    "plt.ylabel('y')"
   ]
  },
  {
   "cell_type": "markdown",
   "metadata": {},
   "source": [
    "## Use simple embedding to learn initial condition $y_0$ or $z_{t_0}$ and in time series context and the function $f(t,y)$"
   ]
  },
  {
   "cell_type": "code",
   "execution_count": 33,
   "metadata": {},
   "outputs": [],
   "source": [
    "class InitialCond_and_FC(nn.Module):\n",
    "    def __init__(self, num_ts, num_params, solver, num_hidden=128, num_vars = 2):\n",
    "        super(InitialCond_and_FC, self).__init__()\n",
    "        self.num_ts = num_ts \n",
    "        self.num_params = num_params\n",
    "        self.num_vars = num_vars #(t,y)\n",
    "        self.solver=solver\n",
    "        self.num_hidden = num_hidden\n",
    "        self.dynamics = nn.Sequential(\n",
    "            nn.Linear(self.num_vars, num_hidden),\n",
    "            nn.LeakyReLU(),\n",
    "            nn.Linear(num_hidden, num_hidden),\n",
    "            nn.LeakyReLU(),\n",
    "            nn.Linear(num_hidden, num_ts)\n",
    "        )\n",
    "        #self.embedding = nn.Embedding(num_ts, num_params)\n",
    "        self.y0 = torch.nn.Parameter(torch.cuda.FloatTensor([[0]]))\n",
    "    # RK4\n",
    "    def forward(self, t):\n",
    "        y0 = self.y0#self.embedding(torch.arange(self.num_ts).to(device))\n",
    "        # inline Rk4 solver\n",
    "        y = []\n",
    "        # Inital condiiton\n",
    "        y.append(y0)\n",
    "        if self.solver == 'rk4':\n",
    "            for n in range(len(t)-1):\n",
    "               # print(t[n].reshape(1,1).shape, y[n].shape,torch.cat([t[n].reshape(1,1), y[n]]).shape)\n",
    "                f1 = self.dynamics(torch.cat([t[n].reshape(1,1), y[n]], dim = 1))#.reshape(self.num_ts,self.num_vars))\n",
    "                k1 = dt * f1\n",
    "                f2 = self.dynamics(torch.cat([(t[n] + dt/2).reshape(1,1), y[n] + k1/2], dim = 1))#.reshape(self.num_ts,self.num_vars))\n",
    "                k2 = dt * f2\n",
    "                f3 = self.dynamics(torch.cat([(t[n] + dt/2).reshape(1,1), y[n] + k2/2], dim = 1))#.reshape(self.num_ts,self.num_vars))\n",
    "                k3 = dt * f3\n",
    "                f4 = self.dynamics(torch.cat([(t[n] + dt).reshape(1,1), y[n] + k3], dim = 1))#.reshape(self.num_ts,self.num_vars))\n",
    "                k4 = dt * f4\n",
    "                y.append(y[n] + 1/6 * (k1 + 2*k2 + 2*k3 + k4))\n",
    "                \n",
    "        elif self.solver == 'forward_euler':\n",
    "            for n in range(len(t)-1):\n",
    "                y.append(y[n] + dt * self.dynamics(torch.cat([t[n].reshape(1,1),  y[n]], dim = 1)))#t[n].reshape(1,1)**2,, y[n]**2\n",
    "        else:\n",
    "            print('ODE solver is not supported!')\n",
    "        return torch.cat(y, dim = 1)[0]"
   ]
  },
  {
   "cell_type": "code",
   "execution_count": 34,
   "metadata": {},
   "outputs": [
    {
     "name": "stderr",
     "output_type": "stream",
     "text": [
      "/home/ec2-user/anaconda3/envs/pytorch_p36/lib/python3.6/site-packages/ipykernel/__main__.py:12: TqdmDeprecationWarning: This function will be removed in tqdm==5.0.0\n",
      "Please use `tqdm.notebook.tqdm` instead of `tqdm.tqdm_notebook`\n"
     ]
    },
    {
     "data": {
      "application/vnd.jupyter.widget-view+json": {
       "model_id": "9eb1938598f04ad48554b72b7d290828",
       "version_major": 2,
       "version_minor": 0
      },
      "text/plain": [
       "HBox(children=(FloatProgress(value=0.0, max=2000.0), HTML(value='')))"
      ]
     },
     "metadata": {},
     "output_type": "display_data"
    },
    {
     "name": "stdout",
     "output_type": "stream",
     "text": [
      "\n"
     ]
    }
   ],
   "source": [
    "num_ts = 1\n",
    "num_params = 1 #learning only initial condition\n",
    "solver = 'rk4'#'forward_euler'#'forward_euler'#\n",
    "model = InitialCond_and_FC(num_ts, num_params, num_hidden = 128, solver = solver).to(device)\n",
    "optimizer = torch.optim.Adam(model.parameters(), 0.01)\n",
    "scheduler = torch.optim.lr_scheduler.StepLR(optimizer, step_size= 1, gamma=0.95)\n",
    "\n",
    "num_epochs = 2000\n",
    "\n",
    "loss_fun = torch.nn.MSELoss()\n",
    "t = torch.arange(0, 1+0.01, 0.01).float()\n",
    "tqdm_epochs = tqdm(range(num_epochs))\n",
    "\n",
    "for e in tqdm_epochs:\n",
    "    #forward pass\n",
    "    y = model(t.to(device))\n",
    "    loss = loss_fun(y.to(device), y_exact[:101].to(device))\n",
    "    optimizer.zero_grad()\n",
    "    loss.backward()\n",
    "    optimizer.step()\n",
    "    tqdm_epochs.set_postfix({'loss': torch.sum(loss).item()})"
   ]
  },
  {
   "cell_type": "code",
   "execution_count": 26,
   "metadata": {},
   "outputs": [],
   "source": [
    "t = torch.arange(0, 1+0.01, 0.01).float()\n",
    "y_euler = model(t.to(device))"
   ]
  },
  {
   "cell_type": "code",
   "execution_count": 27,
   "metadata": {},
   "outputs": [
    {
     "data": {
      "image/png": "[encoded data removed]",
      "text/plain": [
       "<Figure size 432x288 with 1 Axes>"
      ]
     },
     "metadata": {},
     "output_type": "display_data"
    }
   ],
   "source": [
    "# after 4500 iterations loss no longer decreasing not converging!\n",
    "# seems to be converging to linear function\n",
    "plt.plot(t.cpu().data.numpy(), y_euler.cpu().data.numpy(), '--',linewidth = 3)\n",
    "#plt.plot(t.cpu().data.numpy(), y_rk4.cpu().data.numpy(), '--',linewidth = 3, color = \"red\")\n",
    "plt.plot(t.cpu().data.numpy(), y_exact.cpu().data.numpy(), color = \"black\",linewidth = 1)\n",
    "plt.legend(('Euler_FC_Quandratic', 'Exact Sol'))# 'RK4_FC',\n",
    "plt.axvline(1, color = \"black\",linewidth = 1)\n",
    "plt.xlabel('t')\n",
    "plt.ylabel('y');\n",
    "#plt.savefig(\"Hyperbolic_Quan_Extrapolation.png\", dpi = 300 , bbox_inches = \"tight\")"
   ]
  },
  {
   "cell_type": "markdown",
   "metadata": {},
   "source": [
    "## Fully Connected"
   ]
  },
  {
   "cell_type": "code",
   "execution_count": 35,
   "metadata": {},
   "outputs": [],
   "source": [
    "class FC(nn.Module):\n",
    "    def __init__(self, input_dim, hidden_dim):\n",
    "        super(FC, self).__init__()\n",
    "        self.model = nn.Sequential(\n",
    "            nn.Linear(input_dim, hidden_dim),\n",
    "            nn.ReLU(inplace=True),\n",
    "            nn.Linear(hidden_dim, hidden_dim),\n",
    "            nn.ReLU(inplace=True),\n",
    "            nn.Linear(hidden_dim, 1)\n",
    "        )\n",
    "        self.y0 = torch.nn.Parameter(torch.cuda.FloatTensor([[0]]))\n",
    "    def forward(self, t):\n",
    "        y_preds = [self.y0]\n",
    "        for i in range(1,len(t)):\n",
    "            y_preds.append(self.model(t[i].reshape(1,1)))\n",
    "        return torch.cat(y_preds, dim = -1)"
   ]
  },
  {
   "cell_type": "code",
   "execution_count": 36,
   "metadata": {},
   "outputs": [],
   "source": [
    "model_fc = FC(input_dim = 1, hidden_dim = 1024).cuda()"
   ]
  },
  {
   "cell_type": "code",
   "execution_count": 37,
   "metadata": {},
   "outputs": [
    {
     "name": "stderr",
     "output_type": "stream",
     "text": [
      "/home/ec2-user/anaconda3/envs/pytorch_p36/lib/python3.6/site-packages/ipykernel/__main__.py:5: TqdmDeprecationWarning: This function will be removed in tqdm==5.0.0\n",
      "Please use `tqdm.notebook.tqdm` instead of `tqdm.tqdm_notebook`\n"
     ]
    },
    {
     "data": {
      "application/vnd.jupyter.widget-view+json": {
       "model_id": "d43df2afaba44131b33de276257e89a4",
       "version_major": 2,
       "version_minor": 0
      },
      "text/plain": [
       "HBox(children=(FloatProgress(value=0.0, max=2000.0), HTML(value='')))"
      ]
     },
     "metadata": {},
     "output_type": "display_data"
    },
    {
     "name": "stdout",
     "output_type": "stream",
     "text": [
      "\n"
     ]
    }
   ],
   "source": [
    "optimizer = torch.optim.Adam(model_fc.parameters(), 0.01)\n",
    "scheduler = torch.optim.lr_scheduler.StepLR(optimizer, step_size= 1, gamma=0.9)\n",
    "num_epochs = 2000\n",
    "loss_fun = torch.nn.MSELoss()\n",
    "tqdm_epochs = tqdm(range(num_epochs))\n",
    "\n",
    "min_loss = 10\n",
    "\n",
    "for e in tqdm_epochs:\n",
    "    #forward pass\n",
    "    y = model_fc(t.to(device))[0]\n",
    "    loss = loss_fun(y, y_exact.to(device))\n",
    "    if loss.item() < min_loss:\n",
    "        best_model = model_fc\n",
    "    optimizer.zero_grad()\n",
    "    loss.backward()\n",
    "    optimizer.step()\n",
    "    tqdm_epochs.set_postfix({'loss': torch.sum(loss).item()})"
   ]
  },
  {
   "cell_type": "code",
   "execution_count": 38,
   "metadata": {},
   "outputs": [
    {
     "data": {
      "text/plain": [
       "tensor(1.2831e-06, device='cuda:0', grad_fn=<MseLossBackward>)"
      ]
     },
     "execution_count": 38,
     "metadata": {},
     "output_type": "execute_result"
    }
   ],
   "source": [
    "loss"
   ]
  },
  {
   "cell_type": "code",
   "execution_count": 32,
   "metadata": {},
   "outputs": [
    {
     "data": {
      "image/png": "[encoded data removed]",
      "text/plain": [
       "<Figure size 432x288 with 1 Axes>"
      ]
     },
     "metadata": {},
     "output_type": "display_data"
    }
   ],
   "source": [
    "y = best_model(t.to(device))[0]\n",
    "# after 4500 iterations loss no longer decreasing not converging!\n",
    "# seems to be converging to linear function\n",
    "plt.plot(t.cpu().data.numpy(), y.cpu().data.numpy(), '--',linewidth = 3, color = \"blue\")\n",
    "plt.plot(t.cpu().data.numpy(), y_exact.cpu().data.numpy(), color = \"black\")\n",
    "plt.legend(('FC_only', 'Exact Sol'))\n",
    "plt.xlabel('t')\n",
    "plt.ylabel('y')\n",
    "#plt.savefig(\"Hyperbolic_FC.png\", dpi = 300 , bbox_inches = \"tight\")"
   ]
  },
  {
   "cell_type": "markdown",
   "metadata": {},
   "source": [
    "## Recognition Network\n",
    "RNN with 25 hidden units with a 4D latent space $\\bf{z}_{t_i} \\in \\mathbb{R}^4$ and 2D observation space $\\bf{x}_{t_i} \\in \\mathbb{R}^2$"
   ]
  },
  {
   "cell_type": "code",
   "execution_count": 156,
   "metadata": {},
   "outputs": [],
   "source": [
    "class RecognitionRNN(gluon.HybridBlock):\n",
    "    \n",
    "    def __init__(self, latent_dim=4, obs_dim=2, num_hidden=25, num_batches=1, **kwargs):\n",
    "        super(RecognitionRNN, self).__init__(**kwargs)\n",
    "        self.num_hidden = num_hidden\n",
    "        self.num_batches = num_batches"
   ]
  },
  {
   "cell_type": "code",
   "execution_count": 28,
   "metadata": {},
   "outputs": [
    {
     "data": {
      "text/plain": [
       "RNNModel(\n",
       "  (rnn): RNN(None -> 25, NTC)\n",
       "  (decoder): Dense(25 -> 1, linear)\n",
       ")"
      ]
     },
     "execution_count": 28,
     "metadata": {},
     "output_type": "execute_result"
    }
   ],
   "source": [
    "x = RNNModel('rnn_relu', 25, 1)\n",
    "x"
   ]
  }
 ],
 "metadata": {
  "kernelspec": {
   "display_name": "conda_pytorch_p36",
   "language": "python",
   "name": "conda_pytorch_p36"
  },
  "language_info": {
   "codemirror_mode": {
    "name": "ipython",
    "version": 3
   },
   "file_extension": ".py",
   "mimetype": "text/x-python",
   "name": "python",
   "nbconvert_exporter": "python",
   "pygments_lexer": "ipython3",
   "version": "3.6.5"
  }
 },
 "nbformat": 4,
 "nbformat_minor": 2
}
