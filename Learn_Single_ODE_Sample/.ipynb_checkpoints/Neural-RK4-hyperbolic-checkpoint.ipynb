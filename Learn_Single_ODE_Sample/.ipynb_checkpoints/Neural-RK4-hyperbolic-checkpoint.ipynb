{
 "cells": [
  {
   "cell_type": "code",
   "execution_count": 3,
   "metadata": {},
   "outputs": [],
   "source": [
    "import numpy as np\n",
    "import mxnet as mx\n",
    "from mxnet import gluon, nd, autograd\n",
    "import matplotlib.pyplot as plt\n",
    "from mxnet.gluon import nn, rnn\n",
    "from tqdm import tqdm_notebook as tqdm"
   ]
  },
  {
   "cell_type": "markdown",
   "metadata": {},
   "source": [
    "## Simple Explicit ODE Solvers to solve $\\frac{dy}{dt} = f(t,y)$"
   ]
  },
  {
   "cell_type": "code",
   "execution_count": 4,
   "metadata": {},
   "outputs": [],
   "source": [
    "dtype='float64'\n",
    "ctx = mx.gpu()"
   ]
  },
  {
   "cell_type": "code",
   "execution_count": 5,
   "metadata": {},
   "outputs": [],
   "source": [
    "dt = 0.01\n",
    "t0 = 0\n",
    "y0 = nd.array([1.0], dtype=dtype, ctx=ctx)\n",
    "Tn = 1\n",
    "t = nd.arange(t0, Tn+dt, step=dt, dtype=dtype, ctx=ctx)\n",
    "N = len(t)"
   ]
  },
  {
   "cell_type": "code",
   "execution_count": 6,
   "metadata": {},
   "outputs": [
    {
     "name": "stdout",
     "output_type": "stream",
     "text": [
      "The number of time steps = 100\n"
     ]
    }
   ],
   "source": [
    "print(f'The number of time steps = {N-1}')"
   ]
  },
  {
   "cell_type": "markdown",
   "metadata": {},
   "source": [
    "### 1) 4 stage explicit Runge Kutta"
   ]
  },
  {
   "cell_type": "code",
   "execution_count": 9,
   "metadata": {},
   "outputs": [],
   "source": [
    "# Define function\n",
    "# Problem is this is a lambda function and can only learn nd array\n",
    "f = lambda t,y : -2*t*y ** 2"
   ]
  },
  {
   "cell_type": "code",
   "execution_count": 10,
   "metadata": {},
   "outputs": [],
   "source": [
    "def ode_solver(f, t, y0, solver):\n",
    "    y = []\n",
    "    # Inital condiiton\n",
    "    y.append(y0)\n",
    "    if solver == 'rk4':\n",
    "        for n in range(0, N-1):\n",
    "            k1 = dt * f(t[n],y[n]) #f is lambd function\n",
    "            k2 = dt * f(t[n] + dt/2, y[n] + k1/2)\n",
    "            k3 = dt * f(t[n] + dt/2, y[n] + k2/2)\n",
    "            k4 = dt * f(t[n] + dt, y[n] + k3)\n",
    "            y.append(y[n] + 1/6 * (k1 + 2*k2 + 2*k3 + k4))\n",
    "    elif solver == 'forward_euler':\n",
    "        for n in range(0,N-1):\n",
    "            y.append(y[n] + dt * f(t[n],y[n]))\n",
    "    else:\n",
    "        print('ODE solver is not supported!')\n",
    "    return nd.concat(*y, dim=0)"
   ]
  },
  {
   "cell_type": "code",
   "execution_count": 11,
   "metadata": {},
   "outputs": [],
   "source": [
    "y_rk4 = ode_solver(f,t,y0, 'rk4')"
   ]
  },
  {
   "cell_type": "markdown",
   "metadata": {},
   "source": [
    "### 2) Forward Euler"
   ]
  },
  {
   "cell_type": "code",
   "execution_count": 12,
   "metadata": {},
   "outputs": [],
   "source": [
    "y_fe = ode_solver(f, t, y0, 'forward_euler')"
   ]
  },
  {
   "cell_type": "markdown",
   "metadata": {},
   "source": [
    " ### Exact Solution"
   ]
  },
  {
   "cell_type": "code",
   "execution_count": 13,
   "metadata": {},
   "outputs": [],
   "source": [
    "y_exact = y0 * nd.exp(0.5*t ** 2)\n",
    "y_exact = 1 / (1+t ** 2)"
   ]
  },
  {
   "cell_type": "code",
   "execution_count": 14,
   "metadata": {},
   "outputs": [],
   "source": [
    "y_rk4 = nd.concat(*y_rk4, dim=0)\n",
    "y_fe = nd.concat(*y_fe, dim=0)"
   ]
  },
  {
   "cell_type": "code",
   "execution_count": 15,
   "metadata": {},
   "outputs": [
    {
     "data": {
      "text/plain": [
       "<matplotlib.legend.Legend at 0x7f23ae570be0>"
      ]
     },
     "execution_count": 15,
     "metadata": {},
     "output_type": "execute_result"
    },
    {
     "data": {
      "image/png": "[encoded data removed]",
      "text/plain": [
       "<Figure size 432x288 with 1 Axes>"
      ]
     },
     "metadata": {},
     "output_type": "display_data"
    }
   ],
   "source": [
    "plt.plot(t.asnumpy(),y_rk4.asnumpy(), lw=2)\n",
    "plt.plot(t.asnumpy(),y_fe.asnumpy(), 'r--')\n",
    "plt.plot(t.asnumpy(),y_exact.asnumpy(), 'g--')\n",
    "plt.legend(('RK4', 'ForwardEuler', 'Exact Sol'))"
   ]
  },
  {
   "cell_type": "code",
   "execution_count": 16,
   "metadata": {},
   "outputs": [
    {
     "name": "stdout",
     "output_type": "stream",
     "text": [
      "RK4 Absolute error = \n",
      "[  6.87507828e-11]\n",
      "<NDArray 1 @gpu(0)>\n"
     ]
    }
   ],
   "source": [
    "err_rk = nd.max(nd.abs(y_rk4-y_exact))\n",
    "print(f'RK4 Absolute error = {err_rk}')"
   ]
  },
  {
   "cell_type": "code",
   "execution_count": 17,
   "metadata": {},
   "outputs": [
    {
     "name": "stdout",
     "output_type": "stream",
     "text": [
      "Forward Euler Absolute error = \n",
      "[ 0.00241596]\n",
      "<NDArray 1 @gpu(0)>\n"
     ]
    }
   ],
   "source": [
    "err_fe = nd.max(nd.abs(y_fe-y_exact))\n",
    "print(f'Forward Euler Absolute error = {err_fe}')"
   ]
  },
  {
   "cell_type": "code",
   "execution_count": 18,
   "metadata": {},
   "outputs": [
    {
     "data": {
      "text/plain": [
       "Text(0.5,1,'Pointwise Errors')"
      ]
     },
     "execution_count": 18,
     "metadata": {},
     "output_type": "execute_result"
    },
    {
     "data": {
      "image/png": "[encoded data removed]",
      "text/plain": [
       "<Figure size 432x288 with 1 Axes>"
      ]
     },
     "metadata": {},
     "output_type": "display_data"
    }
   ],
   "source": [
    "plt.plot(t.asnumpy(), nd.abs(y_rk4-y_exact).asnumpy())\n",
    "plt.plot(t.asnumpy(), nd.abs(y_fe-y_exact).asnumpy())\n",
    "plt.legend(('RK4', 'ForwardEuler'))\n",
    "plt.title('Pointwise Errors')"
   ]
  },
  {
   "cell_type": "markdown",
   "metadata": {},
   "source": [
    "## Use simple embedding to learn initial condition $y_0$ or $z_{t_0}$ in time series context."
   ]
  },
  {
   "cell_type": "code",
   "execution_count": 415,
   "metadata": {},
   "outputs": [],
   "source": [
    "class InitialCondRNN(gluon.HybridBlock):\n",
    "    \n",
    "    def __init__(self, num_ts, num_params, dtype = dtype, **kwargs):\n",
    "        super().__init__(**kwargs)\n",
    "        self.num_ts = num_ts # cardinality = number of time series = 1 for now\n",
    "        self.num_params = num_params\n",
    "        self.dtype = dtype\n",
    "        with self.name_scope():\n",
    "            self.embedding = gluon.nn.Embedding(\n",
    "                input_dim=self.num_ts,\n",
    "                output_dim=self.num_params,\n",
    "                dtype=self.dtype,\n",
    "            )\n",
    "    \n",
    "    def forward(self, f, t, ts_idx):\n",
    "        y0 = self.embedding(ts_idx)\n",
    "        return ode_solver(f, t, y0.squeeze(), solver)"
   ]
  },
  {
   "cell_type": "code",
   "execution_count": 416,
   "metadata": {},
   "outputs": [],
   "source": [
    "num_ts = 1\n",
    "num_params = 1 #learning only initial condition\n",
    "model = InitialCondRNN(num_ts, num_params)\n",
    "model.collect_params().initialize(mx.init.Constant([0.5]), force_reinit=True, ctx=ctx)\n",
    "trainer = gluon.Trainer(model.collect_params(), 'adam')"
   ]
  },
  {
   "cell_type": "code",
   "execution_count": 417,
   "metadata": {},
   "outputs": [],
   "source": [
    "lat_feature = nd.array([num_ts], dtype=dtype, ctx=ctx) #only 1 time series for the first test"
   ]
  },
  {
   "cell_type": "code",
   "execution_count": 418,
   "metadata": {},
   "outputs": [
    {
     "data": {
      "application/vnd.jupyter.widget-view+json": {
       "model_id": "3458332bad4f464b93d3fca2e357abde",
       "version_major": 2,
       "version_minor": 0
      },
      "text/plain": [
       "HBox(children=(IntProgress(value=0, max=1500), HTML(value='')))"
      ]
     },
     "metadata": {},
     "output_type": "display_data"
    },
    {
     "name": "stdout",
     "output_type": "stream",
     "text": [
      "CPU times: user 20min 51s, sys: 7min 18s, total: 28min 9s\n",
      "Wall time: 18min 29s\n"
     ]
    }
   ],
   "source": [
    "%%time\n",
    "num_epochs = 1500\n",
    "solver = 'rk4'\n",
    "loss = gluon.loss.L2Loss()\n",
    "\n",
    "tqdm_epochs = tqdm(range(num_epochs))\n",
    "\n",
    "for e in tqdm_epochs:\n",
    "    with autograd.record():\n",
    "        #forward pass\n",
    "        y = model(f, t, lat_feature)\n",
    "        Loss = loss(y, y_exact)\n",
    "        Loss.backward()\n",
    "    trainer.step(num_ts)\n",
    "    tqdm_epochs.set_postfix({'loss': nd.sum(Loss).asscalar()})"
   ]
  },
  {
   "cell_type": "code",
   "execution_count": 419,
   "metadata": {},
   "outputs": [
    {
     "data": {
      "text/plain": [
       "\n",
       "[[ 0.99900145]]\n",
       "<NDArray 1x1 @gpu(0)>"
      ]
     },
     "execution_count": 419,
     "metadata": {},
     "output_type": "execute_result"
    }
   ],
   "source": [
    "model.embedding(lat_feature) #initial condition"
   ]
  },
  {
   "cell_type": "code",
   "execution_count": 420,
   "metadata": {},
   "outputs": [
    {
     "data": {
      "text/plain": [
       "\n",
       "[ 0.00100559]\n",
       "<NDArray 1 @gpu(0)>"
      ]
     },
     "execution_count": 420,
     "metadata": {},
     "output_type": "execute_result"
    }
   ],
   "source": [
    "error = nd.max(nd.abs(y-y_exact))\n",
    "error"
   ]
  },
  {
   "cell_type": "code",
   "execution_count": 421,
   "metadata": {},
   "outputs": [
    {
     "data": {
      "text/plain": [
       "Text(0,0.5,'y')"
      ]
     },
     "execution_count": 421,
     "metadata": {},
     "output_type": "execute_result"
    },
    {
     "data": {
      "image/png": "[encoded data removed]",
      "text/plain": [
       "<Figure size 432x288 with 1 Axes>"
      ]
     },
     "metadata": {},
     "output_type": "display_data"
    }
   ],
   "source": [
    "# after 1500 iterations\n",
    "plt.plot(t.asnumpy(),y.asnumpy(), '--')\n",
    "plt.plot(t.asnumpy(),y_exact.asnumpy())\n",
    "plt.legend(('RK4_RNN', 'Exact Sol'))\n",
    "plt.xlabel('t')\n",
    "plt.ylabel('y')"
   ]
  },
  {
   "cell_type": "markdown",
   "metadata": {},
   "source": [
    "## Use simple embedding to learn initial condition $y_0$ or $z_{t_0}$ and in time series context and the function $f(t,y)$"
   ]
  },
  {
   "cell_type": "code",
   "execution_count": 436,
   "metadata": {},
   "outputs": [],
   "source": [
    "class InitialCond_and_f_RNN(gluon.HybridBlock):\n",
    "    \n",
    "    def __init__(self, num_ts, num_params, dtype=dtype, **kwargs):\n",
    "        super().__init__(**kwargs)\n",
    "        self.num_ts = num_ts # cardinality = number of time series = 1 for now\n",
    "        self.num_params = num_params\n",
    "        self.dtype = dtype\n",
    "        self.num_vars = 2 #(t,y)\n",
    "        with self.name_scope():\n",
    "            self.embedding = gluon.nn.Embedding( # learn initial conditions\n",
    "                input_dim=self.num_ts,\n",
    "                output_dim=self.num_params,\n",
    "                dtype=self.dtype\n",
    "            )\n",
    "            # learn f\n",
    "            self.dynamics = gluon.nn.Dense(units = self.num_ts, in_units=self.num_vars,dtype=self.dtype)\n",
    "    \n",
    "    def forward(self, t, ts_idx):\n",
    "        y0 = self.embedding(ts_idx)\n",
    "        # inline Rk4 solver\n",
    "        y = []\n",
    "        # Inital condiiton\n",
    "        y.append(y0)\n",
    "        for n in range(0, N-1):\n",
    "            f1 = self.dynamics(nd.concat(t[n],*y[n], dim=0).reshape(self.num_ts,self.num_vars))\n",
    "            k1 = dt * f1\n",
    "            f2 = self.dynamics(nd.concat(t[n] + dt/2, *y[n] + k1/2, dim=0).reshape(self.num_ts,self.num_vars))\n",
    "            k2 = dt * f2\n",
    "            f3 = self.dynamics(nd.concat(t[n] + dt/2, *y[n] + k2/2, dim=0).reshape(self.num_ts,self.num_vars))\n",
    "            k3 = dt * f3\n",
    "            f4 = self.dynamics(nd.concat(t[n] + dt, *y[n] + k3, dim=0).reshape(self.num_ts,self.num_vars))\n",
    "            k4 = dt * f4\n",
    "            y.append(y[n] + 1/6 * (k1 + 2*k2 + 2*k3 + k4))\n",
    "        return nd.concat(*y, dim=0)"
   ]
  },
  {
   "cell_type": "code",
   "execution_count": 437,
   "metadata": {},
   "outputs": [],
   "source": [
    "num_ts = 1\n",
    "num_params = 1 #learning only initial condition\n",
    "model = InitialCond_and_f_RNN(num_ts, num_params)\n",
    "model.collect_params().initialize(mx.init.Constant([1]), force_reinit=True, ctx=ctx)\n",
    "trainer = gluon.Trainer(model.collect_params(), 'adam')"
   ]
  },
  {
   "cell_type": "code",
   "execution_count": 438,
   "metadata": {},
   "outputs": [],
   "source": [
    "y = model(t, lat_feature)"
   ]
  },
  {
   "cell_type": "code",
   "execution_count": 439,
   "metadata": {},
   "outputs": [
    {
     "data": {
      "application/vnd.jupyter.widget-view+json": {
       "model_id": "d181bf434801425f9be7ccc424c69e37",
       "version_major": 2,
       "version_minor": 0
      },
      "text/plain": [
       "HBox(children=(IntProgress(value=0, max=1500), HTML(value='')))"
      ]
     },
     "metadata": {},
     "output_type": "display_data"
    },
    {
     "name": "stdout",
     "output_type": "stream",
     "text": [
      "CPU times: user 15min 6s, sys: 2min 25s, total: 17min 31s\n",
      "Wall time: 11min\n"
     ]
    }
   ],
   "source": [
    "%%time\n",
    "num_epochs = 1500\n",
    "solver = 'rk4'\n",
    "loss = gluon.loss.L2Loss()\n",
    "\n",
    "tqdm_epochs = tqdm(range(num_epochs))\n",
    "\n",
    "for e in tqdm_epochs:\n",
    "    with autograd.record():\n",
    "        #forward pass\n",
    "        y = model(t, lat_feature)\n",
    "        Loss = loss(y, y_exact)\n",
    "        Loss.backward()\n",
    "    trainer.step(num_ts)\n",
    "    tqdm_epochs.set_postfix({'loss': nd.sum(Loss).asscalar()})"
   ]
  },
  {
   "cell_type": "code",
   "execution_count": 432,
   "metadata": {},
   "outputs": [],
   "source": [
    "y = model(t, lat_feature)"
   ]
  },
  {
   "cell_type": "code",
   "execution_count": 433,
   "metadata": {},
   "outputs": [
    {
     "data": {
      "text/plain": [
       "\n",
       "[[ 0.68721424]]\n",
       "<NDArray 1x1 @gpu(0)>"
      ]
     },
     "execution_count": 433,
     "metadata": {},
     "output_type": "execute_result"
    }
   ],
   "source": [
    "model.embedding(lat_feature) #initial condition"
   ]
  },
  {
   "cell_type": "code",
   "execution_count": 434,
   "metadata": {},
   "outputs": [
    {
     "data": {
      "text/plain": [
       "\n",
       "[ 0.32462964]\n",
       "<NDArray 1 @gpu(0)>"
      ]
     },
     "execution_count": 434,
     "metadata": {},
     "output_type": "execute_result"
    }
   ],
   "source": [
    "error_f = nd.max(nd.abs(y-y_exact))\n",
    "error_f"
   ]
  },
  {
   "cell_type": "code",
   "execution_count": 435,
   "metadata": {},
   "outputs": [
    {
     "data": {
      "text/plain": [
       "Text(0,0.5,'y')"
      ]
     },
     "execution_count": 435,
     "metadata": {},
     "output_type": "execute_result"
    },
    {
     "data": {
      "image/png": "[encoded data removed]",
      "text/plain": [
       "<Figure size 432x288 with 1 Axes>"
      ]
     },
     "metadata": {},
     "output_type": "display_data"
    }
   ],
   "source": [
    "# after 1500 iterations\n",
    "plt.plot(t.asnumpy(),y.asnumpy(), '--')\n",
    "plt.plot(t.asnumpy(),y_exact.asnumpy())\n",
    "plt.legend(('RK4_RNN', 'Exact Sol'))\n",
    "plt.xlabel('t')\n",
    "plt.ylabel('y')"
   ]
  },
  {
   "cell_type": "markdown",
   "metadata": {},
   "source": [
    "## Recognition Network\n",
    "RNN with 25 hidden units with a 4D latent space $\\bf{z}_{t_i} \\in \\mathbb{R}^4$ and 2D observation space $\\bf{x}_{t_i} \\in \\mathbb{R}^2$"
   ]
  },
  {
   "cell_type": "code",
   "execution_count": 156,
   "metadata": {},
   "outputs": [],
   "source": [
    "class RecognitionRNN(gluon.HybridBlock):\n",
    "    \n",
    "    def __init__(self, latent_dim=4, obs_dim=2, num_hidden=25, num_batches=1, **kwargs):\n",
    "        super(RecognitionRNN, self).__init__(**kwargs)\n",
    "        self.num_hidden = num_hidden\n",
    "        self.num_batches = num_batches"
   ]
  },
  {
   "cell_type": "code",
   "execution_count": 28,
   "metadata": {},
   "outputs": [
    {
     "data": {
      "text/plain": [
       "RNNModel(\n",
       "  (rnn): RNN(None -> 25, NTC)\n",
       "  (decoder): Dense(25 -> 1, linear)\n",
       ")"
      ]
     },
     "execution_count": 28,
     "metadata": {},
     "output_type": "execute_result"
    }
   ],
   "source": [
    "x = RNNModel('rnn_relu', 25, 1)\n",
    "x"
   ]
  }
 ],
 "metadata": {
  "kernelspec": {
   "display_name": "conda_mxnet_p36",
   "language": "python",
   "name": "conda_mxnet_p36"
  },
  "language_info": {
   "codemirror_mode": {
    "name": "ipython",
    "version": 3
   },
   "file_extension": ".py",
   "mimetype": "text/x-python",
   "name": "python",
   "nbconvert_exporter": "python",
   "pygments_lexer": "ipython3",
   "version": "3.6.5"
  }
 },
 "nbformat": 4,
 "nbformat_minor": 2
}
